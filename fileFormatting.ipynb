{
 "cells": [
  {
   "cell_type": "code",
   "execution_count": 1,
   "id": "e86fcffb",
   "metadata": {},
   "outputs": [],
   "source": [
    "import pandas as pd\n",
    "import numpy as np\n",
    "import matplotlib.pyplot as plt\n",
    "import tensorflow as tf\n",
    "import os\n",
    "from sklearn.model_selection import train_test_split"
   ]
  },
  {
   "cell_type": "code",
   "execution_count": 2,
   "id": "c6266672",
   "metadata": {},
   "outputs": [],
   "source": [
    "file_names = os.listdir('crop_part1')"
   ]
  },
  {
   "cell_type": "code",
   "execution_count": 3,
   "id": "c6281c62",
   "metadata": {},
   "outputs": [
    {
     "data": {
      "text/html": [
       "<div>\n",
       "<style scoped>\n",
       "    .dataframe tbody tr th:only-of-type {\n",
       "        vertical-align: middle;\n",
       "    }\n",
       "\n",
       "    .dataframe tbody tr th {\n",
       "        vertical-align: top;\n",
       "    }\n",
       "\n",
       "    .dataframe thead th {\n",
       "        text-align: right;\n",
       "    }\n",
       "</style>\n",
       "<table border=\"1\" class=\"dataframe\">\n",
       "  <thead>\n",
       "    <tr style=\"text-align: right;\">\n",
       "      <th></th>\n",
       "      <th>Age</th>\n",
       "      <th>Gender</th>\n",
       "      <th>Ethnicity</th>\n",
       "      <th>JPG</th>\n",
       "      <th>img_path</th>\n",
       "    </tr>\n",
       "  </thead>\n",
       "  <tbody>\n",
       "    <tr>\n",
       "      <th>0</th>\n",
       "      <td>100</td>\n",
       "      <td>0</td>\n",
       "      <td>0</td>\n",
       "      <td>100_0_0_20170112213500903.jpg.chip.jpg</td>\n",
       "      <td>crop_part1/100_0_0_20170112213500903.jpg.chip.jpg</td>\n",
       "    </tr>\n",
       "    <tr>\n",
       "      <th>1</th>\n",
       "      <td>100</td>\n",
       "      <td>0</td>\n",
       "      <td>0</td>\n",
       "      <td>100_0_0_20170112215240346.jpg.chip.jpg</td>\n",
       "      <td>crop_part1/100_0_0_20170112215240346.jpg.chip.jpg</td>\n",
       "    </tr>\n",
       "    <tr>\n",
       "      <th>2</th>\n",
       "      <td>100</td>\n",
       "      <td>1</td>\n",
       "      <td>0</td>\n",
       "      <td>100_1_0_20170110183726390.jpg.chip.jpg</td>\n",
       "      <td>crop_part1/100_1_0_20170110183726390.jpg.chip.jpg</td>\n",
       "    </tr>\n",
       "    <tr>\n",
       "      <th>3</th>\n",
       "      <td>100</td>\n",
       "      <td>1</td>\n",
       "      <td>0</td>\n",
       "      <td>100_1_0_20170112213001988.jpg.chip.jpg</td>\n",
       "      <td>crop_part1/100_1_0_20170112213001988.jpg.chip.jpg</td>\n",
       "    </tr>\n",
       "    <tr>\n",
       "      <th>4</th>\n",
       "      <td>100</td>\n",
       "      <td>1</td>\n",
       "      <td>0</td>\n",
       "      <td>100_1_0_20170112213303693.jpg.chip.jpg</td>\n",
       "      <td>crop_part1/100_1_0_20170112213303693.jpg.chip.jpg</td>\n",
       "    </tr>\n",
       "  </tbody>\n",
       "</table>\n",
       "</div>"
      ],
      "text/plain": [
       "   Age Gender Ethnicity                                     JPG  \\\n",
       "0  100      0         0  100_0_0_20170112213500903.jpg.chip.jpg   \n",
       "1  100      0         0  100_0_0_20170112215240346.jpg.chip.jpg   \n",
       "2  100      1         0  100_1_0_20170110183726390.jpg.chip.jpg   \n",
       "3  100      1         0  100_1_0_20170112213001988.jpg.chip.jpg   \n",
       "4  100      1         0  100_1_0_20170112213303693.jpg.chip.jpg   \n",
       "\n",
       "                                            img_path  \n",
       "0  crop_part1/100_0_0_20170112213500903.jpg.chip.jpg  \n",
       "1  crop_part1/100_0_0_20170112215240346.jpg.chip.jpg  \n",
       "2  crop_part1/100_1_0_20170110183726390.jpg.chip.jpg  \n",
       "3  crop_part1/100_1_0_20170112213001988.jpg.chip.jpg  \n",
       "4  crop_part1/100_1_0_20170112213303693.jpg.chip.jpg  "
      ]
     },
     "execution_count": 3,
     "metadata": {},
     "output_type": "execute_result"
    }
   ],
   "source": [
    "import re\n",
    "pattern = re.compile(r\"(\\d+)_(\\d+)_(\\d+)\")\n",
    "\n",
    "df = pd.DataFrame(columns = ['Age', 'Gender', 'Ethnicity'])\n",
    "count = 0\n",
    "for i in file_names:\n",
    "    data =list(pattern.search(i).groups())\n",
    "    df.loc[count] = data\n",
    "    count += 1\n",
    "        \n",
    "    \n",
    "#7881 and 7876 are bad values\n",
    "# AGE, Gender, Ethnicity\n",
    "# 0 is male, 1 is female\n",
    "# Race is an integer from 0 to 4, denoting White, Black, Asian, Indian, and Others (like Hispanic, Latino, Middle Eastern).\n",
    "# 0 = White\n",
    "# 1 = Black\n",
    "# 2 = Asian\n",
    "# 3 = Indian\n",
    "# 4 = Others\n",
    "\n",
    "df['JPG'] = file_names\n",
    "img_path = []\n",
    "count = 0\n",
    "for row in df.iterrows():\n",
    "    path = \"crop_part1/\"+df.JPG.iloc[count]\n",
    "    img_path.append(path)\n",
    "    count += 1\n",
    "df['img_path'] = img_path\n",
    "df2 = df[['Age', 'Gender', 'Ethnicity', 'JPG', 'img_path']].copy()\n",
    "df2.head()"
   ]
  },
  {
   "cell_type": "code",
   "execution_count": 4,
   "id": "8f916781",
   "metadata": {},
   "outputs": [
    {
     "data": {
      "text/plain": [
       "25-32    8980\n",
       "15-20    3252\n",
       "60+      2690\n",
       "48-53    2600\n",
       "38-43    2535\n",
       "0-2      1894\n",
       "8-13     1018\n",
       "4-6       739\n",
       "Name: Age_Range, dtype: int64"
      ]
     },
     "execution_count": 4,
     "metadata": {},
     "output_type": "execute_result"
    }
   ],
   "source": [
    "df3 = pd.DataFrame(columns = ['Age_Range'])\n",
    "ages = df2['Age'].tolist()\n",
    "count = 0\n",
    "for i in ages:\n",
    "    i = int(i)\n",
    "    if i == 0 or i == 1 or i == 2 or i == 3:\n",
    "        df3.loc[count] = '0-2'\n",
    "    elif i == 4 or i == 5 or i == 6 or i == 7:\n",
    "        df3.loc[count] = '4-6'\n",
    "    elif i == 8 or i == 9 or i == 10 or i == 11 or i == 12 or i == 13 or i == 14:\n",
    "        df3.loc[count] = '8-13'\n",
    "    elif i == 15 or i == 16 or i == 17 or i == 18 or i == 19 or i == 20 or i == 21 or i == 22 or i == 23 or i == 24:\n",
    "        df3.loc[count] = '15-20'\n",
    "    elif i == 25 or i == 26 or i == 27 or i == 28 or i == 29 or i == 30 or i == 31 or i == 32 or i == 33 or i == 34 or i == 35 or i == 36 or i == 37 :\n",
    "        df3.loc[count] = '25-32'\n",
    "    elif i == 38 or i == 39 or i == 40 or i == 41 or i == 42 or i == 43 or i == 44 or i == 45 or i == 46 or i == 47:\n",
    "        df3.loc[count] = '38-43'\n",
    "    elif i == 48 or i == 49 or i == 50 or i == 51 or i == 52 or i == 53 or i == 54 or i == 55 or i == 56 or i == 57 or i == 58 or i == 59:\n",
    "        df3.loc[count] = '48-53'\n",
    "    else: \n",
    "        df3.loc[count] = '60+'\n",
    "    count += 1\n",
    "df3['Age_Range'].value_counts()"
   ]
  },
  {
   "cell_type": "code",
   "execution_count": 5,
   "id": "aaf45258",
   "metadata": {},
   "outputs": [
    {
     "data": {
      "text/html": [
       "<div>\n",
       "<style scoped>\n",
       "    .dataframe tbody tr th:only-of-type {\n",
       "        vertical-align: middle;\n",
       "    }\n",
       "\n",
       "    .dataframe tbody tr th {\n",
       "        vertical-align: top;\n",
       "    }\n",
       "\n",
       "    .dataframe thead th {\n",
       "        text-align: right;\n",
       "    }\n",
       "</style>\n",
       "<table border=\"1\" class=\"dataframe\">\n",
       "  <thead>\n",
       "    <tr style=\"text-align: right;\">\n",
       "      <th></th>\n",
       "      <th>Age</th>\n",
       "      <th>Gender</th>\n",
       "      <th>Ethnicity</th>\n",
       "      <th>JPG</th>\n",
       "      <th>img_path</th>\n",
       "      <th>Age_Range</th>\n",
       "      <th>Age_Range_Num</th>\n",
       "    </tr>\n",
       "  </thead>\n",
       "  <tbody>\n",
       "    <tr>\n",
       "      <th>0</th>\n",
       "      <td>100</td>\n",
       "      <td>0</td>\n",
       "      <td>0</td>\n",
       "      <td>100_0_0_20170112213500903.jpg.chip.jpg</td>\n",
       "      <td>crop_part1/100_0_0_20170112213500903.jpg.chip.jpg</td>\n",
       "      <td>60+</td>\n",
       "      <td>7</td>\n",
       "    </tr>\n",
       "    <tr>\n",
       "      <th>1</th>\n",
       "      <td>100</td>\n",
       "      <td>0</td>\n",
       "      <td>0</td>\n",
       "      <td>100_0_0_20170112215240346.jpg.chip.jpg</td>\n",
       "      <td>crop_part1/100_0_0_20170112215240346.jpg.chip.jpg</td>\n",
       "      <td>60+</td>\n",
       "      <td>7</td>\n",
       "    </tr>\n",
       "    <tr>\n",
       "      <th>2</th>\n",
       "      <td>100</td>\n",
       "      <td>1</td>\n",
       "      <td>0</td>\n",
       "      <td>100_1_0_20170110183726390.jpg.chip.jpg</td>\n",
       "      <td>crop_part1/100_1_0_20170110183726390.jpg.chip.jpg</td>\n",
       "      <td>60+</td>\n",
       "      <td>7</td>\n",
       "    </tr>\n",
       "    <tr>\n",
       "      <th>3</th>\n",
       "      <td>100</td>\n",
       "      <td>1</td>\n",
       "      <td>0</td>\n",
       "      <td>100_1_0_20170112213001988.jpg.chip.jpg</td>\n",
       "      <td>crop_part1/100_1_0_20170112213001988.jpg.chip.jpg</td>\n",
       "      <td>60+</td>\n",
       "      <td>7</td>\n",
       "    </tr>\n",
       "    <tr>\n",
       "      <th>4</th>\n",
       "      <td>100</td>\n",
       "      <td>1</td>\n",
       "      <td>0</td>\n",
       "      <td>100_1_0_20170112213303693.jpg.chip.jpg</td>\n",
       "      <td>crop_part1/100_1_0_20170112213303693.jpg.chip.jpg</td>\n",
       "      <td>60+</td>\n",
       "      <td>7</td>\n",
       "    </tr>\n",
       "  </tbody>\n",
       "</table>\n",
       "</div>"
      ],
      "text/plain": [
       "   Age Gender Ethnicity                                     JPG  \\\n",
       "0  100      0         0  100_0_0_20170112213500903.jpg.chip.jpg   \n",
       "1  100      0         0  100_0_0_20170112215240346.jpg.chip.jpg   \n",
       "2  100      1         0  100_1_0_20170110183726390.jpg.chip.jpg   \n",
       "3  100      1         0  100_1_0_20170112213001988.jpg.chip.jpg   \n",
       "4  100      1         0  100_1_0_20170112213303693.jpg.chip.jpg   \n",
       "\n",
       "                                            img_path Age_Range  Age_Range_Num  \n",
       "0  crop_part1/100_0_0_20170112213500903.jpg.chip.jpg       60+              7  \n",
       "1  crop_part1/100_0_0_20170112215240346.jpg.chip.jpg       60+              7  \n",
       "2  crop_part1/100_1_0_20170110183726390.jpg.chip.jpg       60+              7  \n",
       "3  crop_part1/100_1_0_20170112213001988.jpg.chip.jpg       60+              7  \n",
       "4  crop_part1/100_1_0_20170112213303693.jpg.chip.jpg       60+              7  "
      ]
     },
     "execution_count": 5,
     "metadata": {},
     "output_type": "execute_result"
    }
   ],
   "source": [
    "df4 = pd.concat([df2, df3], axis=1, join='inner')\n",
    "age_to_label_map = {\n",
    "    '0-2'  :0,\n",
    "    '4-6'  :1,\n",
    "    '8-13' :2,\n",
    "    '15-20':3,\n",
    "    '25-32':4,\n",
    "    '38-43':5,\n",
    "    '48-53':6,\n",
    "    '60+'  :7\n",
    "}\n",
    "df4['Age_Range_Num'] = df4['Age_Range'].apply(lambda Age_Range: age_to_label_map[Age_Range])\n",
    "df4.head()"
   ]
  },
  {
   "cell_type": "code",
   "execution_count": 6,
   "id": "66baee0e",
   "metadata": {},
   "outputs": [],
   "source": [
    "gender_df = pd.concat([df4,pd.get_dummies(df4['Gender'])],axis = 1)\n",
    "gender_df = gender_df[['JPG','0','1']]\n",
    "gender_df.columns = ['JPG','Male','Female']\n",
    "gender_df.to_csv('gender.csv')\n",
    "\n",
    "age_df = pd.concat([df4,pd.get_dummies(df4['Age_Range'])],axis = 1)\n",
    "age_df  = age_df[['JPG','0-2','8-13','15-20','25-32','38-43','4-6','48-53','60+']]\n",
    "age_df.to_csv('age.csv')\n",
    "\n",
    "ethnicity_df = pd.concat([df4,pd.get_dummies(df4['Ethnicity'])],axis = 1)\n",
    "ethnicity_df  = ethnicity_df[['JPG','0','1','2','3','4']]\n",
    "ethnicity_df.columns = ['JPG','White','Black','Asian','Indian','Other']\n",
    "ethnicity_df.to_csv('ethnicity.csv')"
   ]
  },
  {
   "cell_type": "markdown",
   "id": "013a7b8d",
   "metadata": {},
   "source": [
    "# Rename Gender Files"
   ]
  },
  {
   "cell_type": "code",
   "execution_count": null,
   "id": "ee9d3acb",
   "metadata": {},
   "outputs": [],
   "source": [
    "     "
   ]
  },
  {
   "cell_type": "code",
   "execution_count": 7,
   "id": "09e7740d",
   "metadata": {},
   "outputs": [],
   "source": [
    "# organize dataset into a useful structure\n",
    "from os import makedirs\n",
    "from os import listdir\n",
    "from shutil import copyfile\n",
    "from random import seed\n",
    "from random import random\n",
    "\n",
    "# seed random number generator\n",
    "seed(1)\n",
    "# define ratio of pictures to use for validation\n",
    "src_directory = 'crop_part1/'\n",
    "dataset_home = 'dataset_male_vs_females2/'\n",
    "subdirs = ['male/', 'female/']\n",
    "for subdir in subdirs:\n",
    "    newdir = dataset_home + subdir \n",
    "    makedirs(newdir, exist_ok=True)\n",
    "    \n",
    "count = 0\n",
    "for file in listdir(src_directory):\n",
    "    src = src_directory + '/' + file\n",
    "    if df2.iloc[count]['JPG'] == file and int(df2.iloc[count]['Gender']) == 0:\n",
    "        dst = dataset_home + 'male/'  + file\n",
    "        copyfile(src, dst)\n",
    "    elif df2.iloc[count]['JPG'] == file and int(df2.iloc[count]['Gender']) == 1:\n",
    "        dst = dataset_home + 'female/' + file\n",
    "        copyfile(src, dst)\n",
    "    count += 1"
   ]
  },
  {
   "cell_type": "code",
   "execution_count": 8,
   "id": "bd2847a3",
   "metadata": {},
   "outputs": [
    {
     "name": "stdout",
     "output_type": "stream",
     "text": [
      "Train Male:  12391\n",
      "Train Female:  11317\n"
     ]
    }
   ],
   "source": [
    "trainM_names = os.listdir('dataset_male_vs_females2/male')\n",
    "trainF_names = os.listdir('dataset_male_vs_females2/female')\n",
    "print('Train Male: ',len(trainM_names))\n",
    "print('Train Female: ',len(trainF_names))\n",
    "# Train Male:  4370\n",
    "# Train Female:  5406"
   ]
  },
  {
   "cell_type": "code",
   "execution_count": 9,
   "id": "52f2be22",
   "metadata": {},
   "outputs": [
    {
     "data": {
      "text/plain": [
       "0    12391\n",
       "1    11317\n",
       "Name: Gender, dtype: int64"
      ]
     },
     "execution_count": 9,
     "metadata": {},
     "output_type": "execute_result"
    }
   ],
   "source": [
    "df2.Gender.value_counts()"
   ]
  },
  {
   "cell_type": "markdown",
   "id": "22caa8bf",
   "metadata": {},
   "source": [
    "# Rename Age Files"
   ]
  },
  {
   "cell_type": "code",
   "execution_count": 10,
   "id": "91e7a1d4",
   "metadata": {},
   "outputs": [],
   "source": [
    "# organize dataset into a useful structure\n",
    "from os import makedirs\n",
    "from os import listdir\n",
    "from shutil import copyfile\n",
    "from random import seed\n",
    "from random import random\n",
    "\n",
    "# seed random number generator\n",
    "seed(1)\n",
    "# define ratio of pictures to use for validation\n",
    "src_directory = 'crop_part1/'\n",
    "dataset_home = 'dataset_age2/'\n",
    "subdirs = ['0-2/', '4-6/', '8-13/', '15-20/', '25-32/', '38-43/', '48-53/', '60+/']\n",
    "for subdir in subdirs:\n",
    "    newdir = dataset_home + subdir \n",
    "    makedirs(newdir, exist_ok=True)\n",
    "\n",
    "count = 0\n",
    "for file in listdir(src_directory):\n",
    "    src = src_directory + '/' + file\n",
    "    if df4.iloc[count]['JPG'] == file and int(df4.iloc[count]['Age_Range_Num']) == 0:\n",
    "        dst = dataset_home + '0-2/'  + file\n",
    "        copyfile(src, dst)\n",
    "    elif df4.iloc[count]['JPG'] == file and int(df4.iloc[count]['Age_Range_Num']) == 1:\n",
    "        dst = dataset_home + '4-6/' + file\n",
    "        copyfile(src, dst)\n",
    "    elif df4.iloc[count]['JPG'] == file and int(df4.iloc[count]['Age_Range_Num']) == 2:\n",
    "        dst = dataset_home + '8-13/' + file\n",
    "        copyfile(src, dst)\n",
    "    elif df4.iloc[count]['JPG'] == file and int(df4.iloc[count]['Age_Range_Num']) == 3:\n",
    "        dst = dataset_home + '15-20/' + file\n",
    "        copyfile(src, dst)\n",
    "    elif df4.iloc[count]['JPG'] == file and int(df4.iloc[count]['Age_Range_Num']) == 4:\n",
    "        dst = dataset_home + '25-32/' + file\n",
    "        copyfile(src, dst)\n",
    "    elif df4.iloc[count]['JPG'] == file and int(df4.iloc[count]['Age_Range_Num']) == 5:\n",
    "        dst = dataset_home + '38-43/' + file\n",
    "        copyfile(src, dst)\n",
    "    elif df4.iloc[count]['JPG'] == file and int(df4.iloc[count]['Age_Range_Num']) == 6:\n",
    "        dst = dataset_home + '48-53/' + file\n",
    "        copyfile(src, dst)\n",
    "    else:\n",
    "        dst = dataset_home + '60+/' + file\n",
    "        copyfile(src, dst)\n",
    "        \n",
    "    count+= 1"
   ]
  },
  {
   "cell_type": "code",
   "execution_count": 11,
   "id": "9354ac3c",
   "metadata": {},
   "outputs": [
    {
     "name": "stdout",
     "output_type": "stream",
     "text": [
      "0-2:  1894\n",
      "4-6:  739\n",
      "8-13:  1018\n",
      "15-20:  3252\n",
      "25-32:  8980\n",
      "38-43:  2535\n",
      "48-53:  2600\n",
      "60+:  2690\n",
      "Total:  23708\n"
     ]
    }
   ],
   "source": [
    "names0 = os.listdir('dataset_age2/0-2')\n",
    "names1 = os.listdir('dataset_age2/4-6')\n",
    "names2 = os.listdir('dataset_age2/8-13')\n",
    "names3 = os.listdir('dataset_age2/15-20')\n",
    "names4 = os.listdir('dataset_age2/25-32')\n",
    "names5 = os.listdir('dataset_age2/38-43')\n",
    "names6 = os.listdir('dataset_age2/48-53')\n",
    "names7 = os.listdir('dataset_age2/60+')\n",
    "\n",
    "\n",
    "print('0-2: ',len(names0))\n",
    "print('4-6: ',len(names1))\n",
    "print('8-13: ',len(names2))\n",
    "print('15-20: ',len(names3))\n",
    "print('25-32: ',len(names4))\n",
    "print('38-43: ',len(names5))\n",
    "print('48-53: ',len(names6))\n",
    "print('60+: ',len(names7))\n",
    "print('Total: ', str(len(names0)+len(names1)+len(names2)+len(names3)+len(names4)+len(names5)+len(names6)+len(names7)))"
   ]
  },
  {
   "cell_type": "code",
   "execution_count": 12,
   "id": "db920149",
   "metadata": {},
   "outputs": [
    {
     "data": {
      "text/plain": [
       "4    8980\n",
       "3    3252\n",
       "7    2690\n",
       "6    2600\n",
       "5    2535\n",
       "0    1894\n",
       "2    1018\n",
       "1     739\n",
       "Name: Age_Range_Num, dtype: int64"
      ]
     },
     "execution_count": 12,
     "metadata": {},
     "output_type": "execute_result"
    }
   ],
   "source": [
    "df4.Age_Range_Num.value_counts()"
   ]
  },
  {
   "cell_type": "markdown",
   "id": "118a3185",
   "metadata": {},
   "source": [
    "# Rename Ethnicity Files"
   ]
  },
  {
   "cell_type": "code",
   "execution_count": 13,
   "id": "08669268",
   "metadata": {},
   "outputs": [
    {
     "data": {
      "text/plain": [
       "0                    10078\n",
       "1                     4526\n",
       "3                     3975\n",
       "2                     3434\n",
       "4                     1692\n",
       "20170116174525125        1\n",
       "20170109142408075        1\n",
       "20170109150557335        1\n",
       "Name: Ethnicity, dtype: int64"
      ]
     },
     "execution_count": 13,
     "metadata": {},
     "output_type": "execute_result"
    }
   ],
   "source": [
    "df2.Ethnicity.value_counts()"
   ]
  },
  {
   "cell_type": "code",
   "execution_count": 8,
   "id": "1e6409f8",
   "metadata": {},
   "outputs": [],
   "source": [
    "# organize dataset into a useful structure\n",
    "from os import makedirs\n",
    "from os import listdir\n",
    "from shutil import copyfile\n",
    "from random import seed\n",
    "from random import random\n",
    "\n",
    "# 0 = White\n",
    "# 1 = Black\n",
    "# 2 = Asian\n",
    "# 3 = Indian\n",
    "# 4 = Others\n",
    "\n",
    "# seed random number generator\n",
    "seed(1)\n",
    "# define ratio of pictures to use for validation\n",
    "src_directory = 'crop_part1/'\n",
    "dataset_home = 'dataset_ethnicity/'\n",
    "subdirs = ['White/', 'Black/', 'Asian/', 'Indian/', 'Others/']\n",
    "for subdir in subdirs:\n",
    "    newdir = dataset_home + subdir \n",
    "    makedirs(newdir, exist_ok=True)\n",
    "\n",
    "count = 0\n",
    "for file in listdir(src_directory):\n",
    "    src = src_directory + '/' + file\n",
    "    if df2.iloc[count]['JPG'] == file and int(df2.iloc[count]['Ethnicity']) == 0:\n",
    "        dst = dataset_home + 'White/'  + file\n",
    "        copyfile(src, dst)\n",
    "    elif df2.iloc[count]['JPG'] == file and int(df2.iloc[count]['Ethnicity']) == 1:\n",
    "        dst = dataset_home + 'Black/' + file\n",
    "        copyfile(src, dst)\n",
    "    elif df2.iloc[count]['JPG'] == file and int(df2.iloc[count]['Ethnicity']) == 2:\n",
    "        dst = dataset_home + 'Asian/' + file\n",
    "        copyfile(src, dst)\n",
    "    elif df2.iloc[count]['JPG'] == file and int(df2.iloc[count]['Ethnicity']) == 3:\n",
    "        dst = dataset_home + 'Indian/' + file\n",
    "        copyfile(src, dst)\n",
    "    else:\n",
    "        dst = dataset_home + 'Others/' + file\n",
    "        copyfile(src, dst)\n",
    "    count += 1"
   ]
  },
  {
   "cell_type": "code",
   "execution_count": 9,
   "id": "634ab210",
   "metadata": {},
   "outputs": [
    {
     "name": "stdout",
     "output_type": "stream",
     "text": [
      "White:  10078\n",
      "Black:  4526\n",
      "Asian:  3434\n",
      "Indian:  3975\n",
      "Others:  1695\n",
      "Total:  23708\n"
     ]
    }
   ],
   "source": [
    "W_names = os.listdir('dataset_Ethnicity/White')\n",
    "B_names = os.listdir('dataset_Ethnicity/Black')\n",
    "A_names = os.listdir('dataset_Ethnicity/Asian')\n",
    "I_names = os.listdir('dataset_Ethnicity/Indian')\n",
    "O_names = os.listdir('dataset_Ethnicity/Others')\n",
    "\n",
    "\n",
    "print('White: ',len(W_names))\n",
    "print('Black: ',len(B_names))\n",
    "print('Asian: ',len(A_names))\n",
    "print('Indian: ',len(I_names))\n",
    "print('Others: ',len(O_names))\n",
    "print('Total: ', str(len(W_names)+len(B_names)+len(A_names)+len(I_names)+len(O_names)))\n"
   ]
  },
  {
   "cell_type": "code",
   "execution_count": null,
   "id": "3fef527e",
   "metadata": {},
   "outputs": [],
   "source": [
    "# White:  5264\n",
    "# Black:  405\n",
    "# Asian:  1553\n",
    "# Indian:  1451\n",
    "# Others:  1103\n",
    "# Total:  9776"
   ]
  },
  {
   "cell_type": "markdown",
   "id": "0f2a5bb7",
   "metadata": {},
   "source": [
    "# Split files into train, test and val\n",
    "## Gender"
   ]
  },
  {
   "cell_type": "code",
   "execution_count": 10,
   "id": "cc904b6e",
   "metadata": {},
   "outputs": [],
   "source": [
    "import os\n",
    "import numpy as np\n",
    "import shutil\n",
    "import pandas as pd\n",
    "\n",
    "def train_test_split(root_dir, classes_dir, processed_dir):\n",
    "    print(\"########### Train Test Val Script started ###########\")\n",
    "    #data_csv = pd.read_csv(\"DataSet_Final.csv\") ##Use if you have classes saved in any .csv file\n",
    "\n",
    "    val_ratio = 0.20\n",
    "    test_ratio = 0.20\n",
    "\n",
    "    for cls in classes_dir:\n",
    "        # Creating partitions of the data after shuffeling\n",
    "        print(\"$$$$$$$ Class Name \" + cls + \" $$$$$$$\")\n",
    "        src = processed_dir +\"/\" + cls   # Folder to copy images from\n",
    "\n",
    "        allFileNames = os.listdir(src)\n",
    "        np.random.shuffle(allFileNames)\n",
    "        train_FileNames, val_FileNames, test_FileNames = np.split(np.array(allFileNames),\n",
    "                                                                  [int(len(allFileNames) * (1 - (val_ratio + test_ratio))),\n",
    "                                                                   int(len(allFileNames) * (1 - val_ratio)),\n",
    "                                                                   ])\n",
    "\n",
    "        train_FileNames = [src + '//' + name for name in train_FileNames.tolist()]\n",
    "        val_FileNames = [src + '//' + name for name in val_FileNames.tolist()]\n",
    "        test_FileNames = [src + '//' + name for name in test_FileNames.tolist()]\n",
    "\n",
    "        print('Total images: '+ str(len(allFileNames)))\n",
    "        print('Training: '+ str(len(train_FileNames)))\n",
    "        print('Validation: '+  str(len(val_FileNames)))\n",
    "        print('Testing: '+ str(len(test_FileNames)))\n",
    "\n",
    "        # # Creating Train / Val / Test folders (One time use)\n",
    "        os.makedirs(root_dir + '/train//' + cls)\n",
    "        os.makedirs(root_dir + '/val//' + cls )\n",
    "        os.makedirs(root_dir + '/test//' + cls)\n",
    "        # Copy-pasting images\n",
    "        for name in train_FileNames:\n",
    "            shutil.copy(name, root_dir + '/train//' + cls)\n",
    "\n",
    "        for name in val_FileNames:\n",
    "            shutil.copy(name, root_dir + '/val//' + cls)\n",
    "\n",
    "        for name in test_FileNames:\n",
    "            shutil.copy(name, root_dir + '/test//' + cls)\n",
    "\n",
    "    print(\"########### Train Test Val Script Ended ###########\")\n",
    "\n"
   ]
  },
  {
   "cell_type": "code",
   "execution_count": 18,
   "id": "3f444e57",
   "metadata": {},
   "outputs": [
    {
     "name": "stdout",
     "output_type": "stream",
     "text": [
      "########### Train Test Val Script started ###########\n",
      "$$$$$$$ Class Name male $$$$$$$\n",
      "Total images: 12391\n",
      "Training: 7434\n",
      "Validation: 2478\n",
      "Testing: 2479\n",
      "$$$$$$$ Class Name female $$$$$$$\n",
      "Total images: 11317\n",
      "Training: 6790\n",
      "Validation: 2263\n",
      "Testing: 2264\n",
      "########### Train Test Val Script Ended ###########\n"
     ]
    }
   ],
   "source": [
    "new_direct = 'Gender_Images2'\n",
    "classes = ['male', 'female']\n",
    "processed_direct = 'dataset_male_vs_females2/'\n",
    "train_test_split(new_direct, classes, processed_direct)"
   ]
  },
  {
   "cell_type": "markdown",
   "id": "f6f9172b",
   "metadata": {},
   "source": [
    "## Age"
   ]
  },
  {
   "cell_type": "code",
   "execution_count": null,
   "id": "24eb9045",
   "metadata": {},
   "outputs": [],
   "source": []
  },
  {
   "cell_type": "code",
   "execution_count": 19,
   "id": "4509e868",
   "metadata": {},
   "outputs": [
    {
     "name": "stdout",
     "output_type": "stream",
     "text": [
      "########### Train Test Val Script started ###########\n",
      "$$$$$$$ Class Name 0-2/ $$$$$$$\n",
      "Total images: 1894\n",
      "Training: 1136\n",
      "Validation: 379\n",
      "Testing: 379\n",
      "$$$$$$$ Class Name 4-6/ $$$$$$$\n",
      "Total images: 739\n",
      "Training: 443\n",
      "Validation: 148\n",
      "Testing: 148\n",
      "$$$$$$$ Class Name 8-13/ $$$$$$$\n",
      "Total images: 1018\n",
      "Training: 610\n",
      "Validation: 204\n",
      "Testing: 204\n",
      "$$$$$$$ Class Name 15-20/ $$$$$$$\n",
      "Total images: 3252\n",
      "Training: 1951\n",
      "Validation: 650\n",
      "Testing: 651\n",
      "$$$$$$$ Class Name 25-32/ $$$$$$$\n",
      "Total images: 8980\n",
      "Training: 5388\n",
      "Validation: 1796\n",
      "Testing: 1796\n",
      "$$$$$$$ Class Name 38-43/ $$$$$$$\n",
      "Total images: 2535\n",
      "Training: 1521\n",
      "Validation: 507\n",
      "Testing: 507\n",
      "$$$$$$$ Class Name 48-53/ $$$$$$$\n",
      "Total images: 2600\n",
      "Training: 1560\n",
      "Validation: 520\n",
      "Testing: 520\n",
      "$$$$$$$ Class Name 60+/ $$$$$$$\n",
      "Total images: 2690\n",
      "Training: 1614\n",
      "Validation: 538\n",
      "Testing: 538\n",
      "########### Train Test Val Script Ended ###########\n"
     ]
    }
   ],
   "source": [
    "new_direct2 = 'Age_Images2'\n",
    "classes2 = ['0-2/', '4-6/', '8-13/', '15-20/', '25-32/', '38-43/', '48-53/', '60+/']\n",
    "processed_direct2 = 'dataset_age2/'\n",
    "train_test_split(new_direct2, classes2, processed_direct2)"
   ]
  },
  {
   "cell_type": "markdown",
   "id": "9fe68f8f",
   "metadata": {},
   "source": [
    "# Ethnicity"
   ]
  },
  {
   "cell_type": "code",
   "execution_count": 11,
   "id": "cccb1f7b",
   "metadata": {},
   "outputs": [
    {
     "name": "stdout",
     "output_type": "stream",
     "text": [
      "########### Train Test Val Script started ###########\n",
      "$$$$$$$ Class Name White $$$$$$$\n",
      "Total images: 10078\n",
      "Training: 6046\n",
      "Validation: 2016\n",
      "Testing: 2016\n",
      "$$$$$$$ Class Name Black $$$$$$$\n",
      "Total images: 4526\n",
      "Training: 2715\n",
      "Validation: 905\n",
      "Testing: 906\n",
      "$$$$$$$ Class Name Asian $$$$$$$\n",
      "Total images: 3434\n",
      "Training: 2060\n",
      "Validation: 687\n",
      "Testing: 687\n",
      "$$$$$$$ Class Name Indian $$$$$$$\n",
      "Total images: 3975\n",
      "Training: 2385\n",
      "Validation: 795\n",
      "Testing: 795\n",
      "$$$$$$$ Class Name Others $$$$$$$\n",
      "Total images: 1695\n",
      "Training: 1017\n",
      "Validation: 339\n",
      "Testing: 339\n",
      "########### Train Test Val Script Ended ###########\n"
     ]
    }
   ],
   "source": [
    "# Race is an integer from 0 to 4, denoting White, Black, Asian, Indian, and Others (like Hispanic, Latino, Middle Eastern).\n",
    "# 0 = White\n",
    "# 1 = Black\n",
    "# 2 = Asian\n",
    "# 3 = Indian\n",
    "# 4 = Others\n",
    "\n",
    "new_direct3 = 'Ethnicity_Images'\n",
    "classes3 = ['White','Black','Asian','Indian','Others']\n",
    "processed_direct3 = 'dataset_ethnicity/'\n",
    "\n",
    "train_test_split(new_direct3, classes3, processed_direct3)"
   ]
  },
  {
   "cell_type": "code",
   "execution_count": null,
   "id": "d6d2f142",
   "metadata": {},
   "outputs": [],
   "source": []
  },
  {
   "cell_type": "code",
   "execution_count": null,
   "id": "fec014bd",
   "metadata": {},
   "outputs": [],
   "source": []
  }
 ],
 "metadata": {
  "kernelspec": {
   "display_name": "Python 3 (ipykernel)",
   "language": "python",
   "name": "python3"
  },
  "language_info": {
   "codemirror_mode": {
    "name": "ipython",
    "version": 3
   },
   "file_extension": ".py",
   "mimetype": "text/x-python",
   "name": "python",
   "nbconvert_exporter": "python",
   "pygments_lexer": "ipython3",
   "version": "3.9.7"
  }
 },
 "nbformat": 4,
 "nbformat_minor": 5
}
