{
 "cells": [
  {
   "cell_type": "code",
   "execution_count": 1,
   "id": "7a3d87a7",
   "metadata": {},
   "outputs": [],
   "source": [
    "import numpy as np\n",
    "import pandas as pd\n",
    "import matplotlib.pyplot as plt\n",
    "import seaborn as sns\n",
    "import cv2\n",
    "from PIL import Image\n",
    "from sklearn.metrics import accuracy_score"
   ]
  },
  {
   "cell_type": "code",
   "execution_count": 2,
   "id": "2529a323",
   "metadata": {},
   "outputs": [],
   "source": [
    "import os\n",
    "file_names = os.listdir('crop_part1')"
   ]
  },
  {
   "cell_type": "code",
   "execution_count": 3,
   "id": "4fb9a8b8",
   "metadata": {},
   "outputs": [
    {
     "data": {
      "text/html": [
       "<div>\n",
       "<style scoped>\n",
       "    .dataframe tbody tr th:only-of-type {\n",
       "        vertical-align: middle;\n",
       "    }\n",
       "\n",
       "    .dataframe tbody tr th {\n",
       "        vertical-align: top;\n",
       "    }\n",
       "\n",
       "    .dataframe thead th {\n",
       "        text-align: right;\n",
       "    }\n",
       "</style>\n",
       "<table border=\"1\" class=\"dataframe\">\n",
       "  <thead>\n",
       "    <tr style=\"text-align: right;\">\n",
       "      <th></th>\n",
       "      <th>Age</th>\n",
       "      <th>Gender</th>\n",
       "      <th>Ethnicity</th>\n",
       "      <th>JPG</th>\n",
       "    </tr>\n",
       "  </thead>\n",
       "  <tbody>\n",
       "    <tr>\n",
       "      <th>0</th>\n",
       "      <td>100</td>\n",
       "      <td>1</td>\n",
       "      <td>0</td>\n",
       "      <td>100_1_0_20170110183726390.jpg.chip.jpg</td>\n",
       "    </tr>\n",
       "    <tr>\n",
       "      <th>1</th>\n",
       "      <td>100</td>\n",
       "      <td>1</td>\n",
       "      <td>2</td>\n",
       "      <td>100_1_2_20170105174847679.jpg.chip.jpg</td>\n",
       "    </tr>\n",
       "    <tr>\n",
       "      <th>2</th>\n",
       "      <td>101</td>\n",
       "      <td>1</td>\n",
       "      <td>2</td>\n",
       "      <td>101_1_2_20170105174739309.jpg.chip.jpg</td>\n",
       "    </tr>\n",
       "    <tr>\n",
       "      <th>3</th>\n",
       "      <td>10</td>\n",
       "      <td>0</td>\n",
       "      <td>0</td>\n",
       "      <td>10_0_0_20161220222308131.jpg.chip.jpg</td>\n",
       "    </tr>\n",
       "    <tr>\n",
       "      <th>4</th>\n",
       "      <td>10</td>\n",
       "      <td>0</td>\n",
       "      <td>0</td>\n",
       "      <td>10_0_0_20170103200329407.jpg.chip.jpg</td>\n",
       "    </tr>\n",
       "    <tr>\n",
       "      <th>...</th>\n",
       "      <td>...</td>\n",
       "      <td>...</td>\n",
       "      <td>...</td>\n",
       "      <td>...</td>\n",
       "    </tr>\n",
       "    <tr>\n",
       "      <th>9771</th>\n",
       "      <td>9</td>\n",
       "      <td>1</td>\n",
       "      <td>3</td>\n",
       "      <td>9_1_3_20161220222856346.jpg.chip.jpg</td>\n",
       "    </tr>\n",
       "    <tr>\n",
       "      <th>9772</th>\n",
       "      <td>9</td>\n",
       "      <td>1</td>\n",
       "      <td>3</td>\n",
       "      <td>9_1_3_20170104222949455.jpg.chip.jpg</td>\n",
       "    </tr>\n",
       "    <tr>\n",
       "      <th>9773</th>\n",
       "      <td>9</td>\n",
       "      <td>1</td>\n",
       "      <td>4</td>\n",
       "      <td>9_1_4_20170103200637399.jpg.chip.jpg</td>\n",
       "    </tr>\n",
       "    <tr>\n",
       "      <th>9774</th>\n",
       "      <td>9</td>\n",
       "      <td>1</td>\n",
       "      <td>4</td>\n",
       "      <td>9_1_4_20170103200814791.jpg.chip.jpg</td>\n",
       "    </tr>\n",
       "    <tr>\n",
       "      <th>9775</th>\n",
       "      <td>9</td>\n",
       "      <td>1</td>\n",
       "      <td>4</td>\n",
       "      <td>9_1_4_20170103213057382.jpg.chip.jpg</td>\n",
       "    </tr>\n",
       "  </tbody>\n",
       "</table>\n",
       "<p>9776 rows × 4 columns</p>\n",
       "</div>"
      ],
      "text/plain": [
       "      Age Gender Ethnicity                                     JPG\n",
       "0     100      1         0  100_1_0_20170110183726390.jpg.chip.jpg\n",
       "1     100      1         2  100_1_2_20170105174847679.jpg.chip.jpg\n",
       "2     101      1         2  101_1_2_20170105174739309.jpg.chip.jpg\n",
       "3      10      0         0   10_0_0_20161220222308131.jpg.chip.jpg\n",
       "4      10      0         0   10_0_0_20170103200329407.jpg.chip.jpg\n",
       "...   ...    ...       ...                                     ...\n",
       "9771    9      1         3    9_1_3_20161220222856346.jpg.chip.jpg\n",
       "9772    9      1         3    9_1_3_20170104222949455.jpg.chip.jpg\n",
       "9773    9      1         4    9_1_4_20170103200637399.jpg.chip.jpg\n",
       "9774    9      1         4    9_1_4_20170103200814791.jpg.chip.jpg\n",
       "9775    9      1         4    9_1_4_20170103213057382.jpg.chip.jpg\n",
       "\n",
       "[9776 rows x 4 columns]"
      ]
     },
     "execution_count": 3,
     "metadata": {},
     "output_type": "execute_result"
    }
   ],
   "source": [
    "import re\n",
    "import pandas as pd\n",
    "pattern = re.compile(r\"(\\d+)_(\\d+)_(\\d+)\")\n",
    "\n",
    "df = pd.DataFrame(columns = ['Age', 'Gender', 'Ethnicity'])\n",
    "count = 0\n",
    "for i in file_names:\n",
    "    data =list(pattern.search(i).groups())\n",
    "    df.loc[count] = data\n",
    "    count += 1\n",
    "        \n",
    "    \n",
    "#7881 and 7875 are bad values\n",
    "# AGE, Gender, Ethnicity\n",
    "# 0 is male, 1 is female\n",
    "# Race is an integer from 0 to 4, denoting White, Black, Asian, Indian, and Others (like Hispanic, Latino, Middle Eastern).\n",
    "# 0 = White\n",
    "# 1 = Black\n",
    "# 2 = Asian\n",
    "# 3 = Indian\n",
    "# 4 = Others\n",
    "df['JPG'] = file_names\n",
    "df"
   ]
  },
  {
   "cell_type": "code",
   "execution_count": null,
   "id": "fadb8b92",
   "metadata": {},
   "outputs": [],
   "source": []
  },
  {
   "cell_type": "code",
   "execution_count": null,
   "id": "0801c83e",
   "metadata": {},
   "outputs": [],
   "source": []
  },
  {
   "cell_type": "code",
   "execution_count": 4,
   "id": "b53c39cb",
   "metadata": {},
   "outputs": [],
   "source": [
    "import tensorflow as tf\n",
    "from keras.models import Sequential\n",
    "from keras.layers import Conv2D, MaxPooling2D, Activation, Dropout, Flatten, Dense, Dropout, LayerNormalization\n",
    "from keras.preprocessing.image import ImageDataGenerator, img_to_array, load_img"
   ]
  },
  {
   "cell_type": "code",
   "execution_count": 5,
   "id": "7de0aeab",
   "metadata": {},
   "outputs": [
    {
     "data": {
      "image/png": "[encoded data removed]",
      "text/plain": [
       "<Figure size 432x288 with 1 Axes>"
      ]
     },
     "metadata": {
      "needs_background": "light"
     },
     "output_type": "display_data"
    }
   ],
   "source": [
    "path = \"crop_part1/\"+df.JPG.iloc[0]\n",
    "img = load_img(path)\n",
    "plt.imshow(img)\n",
    "plt.show()"
   ]
  },
  {
   "cell_type": "code",
   "execution_count": 6,
   "id": "542f5300",
   "metadata": {},
   "outputs": [],
   "source": [
    "img_path = []\n",
    "count = 0\n",
    "for row in df.iterrows():\n",
    "    path = \"crop_part1/\"+df.JPG.iloc[count]\n",
    "    img_path.append(path)\n",
    "    count += 1\n",
    "df['img_path'] = img_path"
   ]
  },
  {
   "cell_type": "code",
   "execution_count": 7,
   "id": "f3d90f8f",
   "metadata": {},
   "outputs": [
    {
     "data": {
      "text/html": [
       "<div>\n",
       "<style scoped>\n",
       "    .dataframe tbody tr th:only-of-type {\n",
       "        vertical-align: middle;\n",
       "    }\n",
       "\n",
       "    .dataframe tbody tr th {\n",
       "        vertical-align: top;\n",
       "    }\n",
       "\n",
       "    .dataframe thead th {\n",
       "        text-align: right;\n",
       "    }\n",
       "</style>\n",
       "<table border=\"1\" class=\"dataframe\">\n",
       "  <thead>\n",
       "    <tr style=\"text-align: right;\">\n",
       "      <th></th>\n",
       "      <th>Age</th>\n",
       "      <th>Gender</th>\n",
       "      <th>Ethnicity</th>\n",
       "      <th>JPG</th>\n",
       "      <th>img_path</th>\n",
       "    </tr>\n",
       "  </thead>\n",
       "  <tbody>\n",
       "    <tr>\n",
       "      <th>0</th>\n",
       "      <td>100</td>\n",
       "      <td>1</td>\n",
       "      <td>0</td>\n",
       "      <td>100_1_0_20170110183726390.jpg.chip.jpg</td>\n",
       "      <td>crop_part1/100_1_0_20170110183726390.jpg.chip.jpg</td>\n",
       "    </tr>\n",
       "    <tr>\n",
       "      <th>1</th>\n",
       "      <td>100</td>\n",
       "      <td>1</td>\n",
       "      <td>2</td>\n",
       "      <td>100_1_2_20170105174847679.jpg.chip.jpg</td>\n",
       "      <td>crop_part1/100_1_2_20170105174847679.jpg.chip.jpg</td>\n",
       "    </tr>\n",
       "    <tr>\n",
       "      <th>2</th>\n",
       "      <td>101</td>\n",
       "      <td>1</td>\n",
       "      <td>2</td>\n",
       "      <td>101_1_2_20170105174739309.jpg.chip.jpg</td>\n",
       "      <td>crop_part1/101_1_2_20170105174739309.jpg.chip.jpg</td>\n",
       "    </tr>\n",
       "    <tr>\n",
       "      <th>3</th>\n",
       "      <td>10</td>\n",
       "      <td>0</td>\n",
       "      <td>0</td>\n",
       "      <td>10_0_0_20161220222308131.jpg.chip.jpg</td>\n",
       "      <td>crop_part1/10_0_0_20161220222308131.jpg.chip.jpg</td>\n",
       "    </tr>\n",
       "    <tr>\n",
       "      <th>4</th>\n",
       "      <td>10</td>\n",
       "      <td>0</td>\n",
       "      <td>0</td>\n",
       "      <td>10_0_0_20170103200329407.jpg.chip.jpg</td>\n",
       "      <td>crop_part1/10_0_0_20170103200329407.jpg.chip.jpg</td>\n",
       "    </tr>\n",
       "  </tbody>\n",
       "</table>\n",
       "</div>"
      ],
      "text/plain": [
       "   Age Gender Ethnicity                                     JPG  \\\n",
       "0  100      1         0  100_1_0_20170110183726390.jpg.chip.jpg   \n",
       "1  100      1         2  100_1_2_20170105174847679.jpg.chip.jpg   \n",
       "2  101      1         2  101_1_2_20170105174739309.jpg.chip.jpg   \n",
       "3   10      0         0   10_0_0_20161220222308131.jpg.chip.jpg   \n",
       "4   10      0         0   10_0_0_20170103200329407.jpg.chip.jpg   \n",
       "\n",
       "                                            img_path  \n",
       "0  crop_part1/100_1_0_20170110183726390.jpg.chip.jpg  \n",
       "1  crop_part1/100_1_2_20170105174847679.jpg.chip.jpg  \n",
       "2  crop_part1/101_1_2_20170105174739309.jpg.chip.jpg  \n",
       "3   crop_part1/10_0_0_20161220222308131.jpg.chip.jpg  \n",
       "4   crop_part1/10_0_0_20170103200329407.jpg.chip.jpg  "
      ]
     },
     "execution_count": 7,
     "metadata": {},
     "output_type": "execute_result"
    }
   ],
   "source": [
    "df.head()"
   ]
  },
  {
   "cell_type": "code",
   "execution_count": 8,
   "id": "388c09f8",
   "metadata": {},
   "outputs": [
    {
     "data": {
      "text/html": [
       "<div>\n",
       "<style scoped>\n",
       "    .dataframe tbody tr th:only-of-type {\n",
       "        vertical-align: middle;\n",
       "    }\n",
       "\n",
       "    .dataframe tbody tr th {\n",
       "        vertical-align: top;\n",
       "    }\n",
       "\n",
       "    .dataframe thead th {\n",
       "        text-align: right;\n",
       "    }\n",
       "</style>\n",
       "<table border=\"1\" class=\"dataframe\">\n",
       "  <thead>\n",
       "    <tr style=\"text-align: right;\">\n",
       "      <th></th>\n",
       "      <th>Age</th>\n",
       "      <th>Gender</th>\n",
       "      <th>Ethnicity</th>\n",
       "      <th>JPG</th>\n",
       "      <th>img_path</th>\n",
       "    </tr>\n",
       "  </thead>\n",
       "  <tbody>\n",
       "    <tr>\n",
       "      <th>0</th>\n",
       "      <td>100</td>\n",
       "      <td>1</td>\n",
       "      <td>0</td>\n",
       "      <td>100_1_0_20170110183726390.jpg.chip.jpg</td>\n",
       "      <td>crop_part1/100_1_0_20170110183726390.jpg.chip.jpg</td>\n",
       "    </tr>\n",
       "    <tr>\n",
       "      <th>1</th>\n",
       "      <td>100</td>\n",
       "      <td>1</td>\n",
       "      <td>2</td>\n",
       "      <td>100_1_2_20170105174847679.jpg.chip.jpg</td>\n",
       "      <td>crop_part1/100_1_2_20170105174847679.jpg.chip.jpg</td>\n",
       "    </tr>\n",
       "    <tr>\n",
       "      <th>2</th>\n",
       "      <td>101</td>\n",
       "      <td>1</td>\n",
       "      <td>2</td>\n",
       "      <td>101_1_2_20170105174739309.jpg.chip.jpg</td>\n",
       "      <td>crop_part1/101_1_2_20170105174739309.jpg.chip.jpg</td>\n",
       "    </tr>\n",
       "    <tr>\n",
       "      <th>3</th>\n",
       "      <td>10</td>\n",
       "      <td>0</td>\n",
       "      <td>0</td>\n",
       "      <td>10_0_0_20161220222308131.jpg.chip.jpg</td>\n",
       "      <td>crop_part1/10_0_0_20161220222308131.jpg.chip.jpg</td>\n",
       "    </tr>\n",
       "    <tr>\n",
       "      <th>4</th>\n",
       "      <td>10</td>\n",
       "      <td>0</td>\n",
       "      <td>0</td>\n",
       "      <td>10_0_0_20170103200329407.jpg.chip.jpg</td>\n",
       "      <td>crop_part1/10_0_0_20170103200329407.jpg.chip.jpg</td>\n",
       "    </tr>\n",
       "  </tbody>\n",
       "</table>\n",
       "</div>"
      ],
      "text/plain": [
       "   Age Gender Ethnicity                                     JPG  \\\n",
       "0  100      1         0  100_1_0_20170110183726390.jpg.chip.jpg   \n",
       "1  100      1         2  100_1_2_20170105174847679.jpg.chip.jpg   \n",
       "2  101      1         2  101_1_2_20170105174739309.jpg.chip.jpg   \n",
       "3   10      0         0   10_0_0_20161220222308131.jpg.chip.jpg   \n",
       "4   10      0         0   10_0_0_20170103200329407.jpg.chip.jpg   \n",
       "\n",
       "                                            img_path  \n",
       "0  crop_part1/100_1_0_20170110183726390.jpg.chip.jpg  \n",
       "1  crop_part1/100_1_2_20170105174847679.jpg.chip.jpg  \n",
       "2  crop_part1/101_1_2_20170105174739309.jpg.chip.jpg  \n",
       "3   crop_part1/10_0_0_20161220222308131.jpg.chip.jpg  \n",
       "4   crop_part1/10_0_0_20170103200329407.jpg.chip.jpg  "
      ]
     },
     "execution_count": 8,
     "metadata": {},
     "output_type": "execute_result"
    }
   ],
   "source": [
    "df2 = df[['Age', 'Gender', 'Ethnicity', 'JPG', 'img_path']].copy()\n",
    "df2.head()"
   ]
  },
  {
   "cell_type": "code",
   "execution_count": 9,
   "id": "2ae2ab29",
   "metadata": {},
   "outputs": [
    {
     "data": {
      "text/plain": [
       "1      1112\n",
       "2       475\n",
       "3       284\n",
       "26      279\n",
       "4       260\n",
       "       ... \n",
       "110       2\n",
       "99        2\n",
       "100       2\n",
       "91        1\n",
       "101       1\n",
       "Name: Age, Length: 99, dtype: int64"
      ]
     },
     "execution_count": 9,
     "metadata": {},
     "output_type": "execute_result"
    }
   ],
   "source": [
    "df2['Age'].value_counts()"
   ]
  },
  {
   "cell_type": "code",
   "execution_count": 10,
   "id": "ef449260",
   "metadata": {},
   "outputs": [
    {
     "data": {
      "text/html": [
       "<div>\n",
       "<style scoped>\n",
       "    .dataframe tbody tr th:only-of-type {\n",
       "        vertical-align: middle;\n",
       "    }\n",
       "\n",
       "    .dataframe tbody tr th {\n",
       "        vertical-align: top;\n",
       "    }\n",
       "\n",
       "    .dataframe thead th {\n",
       "        text-align: right;\n",
       "    }\n",
       "</style>\n",
       "<table border=\"1\" class=\"dataframe\">\n",
       "  <thead>\n",
       "    <tr style=\"text-align: right;\">\n",
       "      <th></th>\n",
       "      <th>Age_Range</th>\n",
       "    </tr>\n",
       "  </thead>\n",
       "  <tbody>\n",
       "  </tbody>\n",
       "</table>\n",
       "</div>"
      ],
      "text/plain": [
       "Empty DataFrame\n",
       "Columns: [Age_Range]\n",
       "Index: []"
      ]
     },
     "execution_count": 10,
     "metadata": {},
     "output_type": "execute_result"
    }
   ],
   "source": [
    "df3 = pd.DataFrame(columns = ['Age_Range'])\n",
    "df3"
   ]
  },
  {
   "cell_type": "code",
   "execution_count": 11,
   "id": "577d46fa",
   "metadata": {},
   "outputs": [],
   "source": [
    "ages = df2['Age'].tolist()"
   ]
  },
  {
   "cell_type": "code",
   "execution_count": 12,
   "id": "140de3b6",
   "metadata": {},
   "outputs": [],
   "source": [
    "count = 0\n",
    "for i in ages:\n",
    "    i = int(i)\n",
    "    if i == 0 or i == 1 or i == 2 or i == 3:\n",
    "        df3.loc[count] = '0-2'\n",
    "    elif i == 4 or i == 5 or i == 6 or i == 7:\n",
    "        df3.loc[count] = '4-6'\n",
    "    elif i == 8 or i == 9 or i == 10 or i == 11 or i == 12 or i == 13 or i == 14:\n",
    "        df3.loc[count] = '8-13'\n",
    "    elif i == 15 or i == 16 or i == 17 or i == 18 or i == 19 or i == 20 or i == 21 or i == 22 or i == 23 or i == 24:\n",
    "        df3.loc[count] = '15-20'\n",
    "    elif i == 25 or i == 26 or i == 27 or i == 28 or i == 29 or i == 30 or i == 31 or i == 32 or i == 33 or i == 34 or i == 35 or i == 36 or i == 37 :\n",
    "        df3.loc[count] = '25-32'\n",
    "    elif i == 38 or i == 39 or i == 40 or i == 41 or i == 42 or i == 43 or i == 44 or i == 45 or i == 46 or i == 47:\n",
    "        df3.loc[count] = '38-43'\n",
    "    elif i == 48 or i == 49 or i == 50 or i == 51 or i == 52 or i == 53 or i == 54 or i == 55 or i == 56 or i == 57 or i == 58 or i == 59:\n",
    "        df3.loc[count] = '48-53'\n",
    "    else: \n",
    "        df3.loc[count] = '60+'\n",
    "    count += 1"
   ]
  },
  {
   "cell_type": "code",
   "execution_count": 13,
   "id": "76e3e028",
   "metadata": {},
   "outputs": [
    {
     "data": {
      "text/plain": [
       "0-2      1871\n",
       "25-32    1663\n",
       "60+      1450\n",
       "15-20    1358\n",
       "48-53    1100\n",
       "8-13      915\n",
       "38-43     739\n",
       "4-6       680\n",
       "Name: Age_Range, dtype: int64"
      ]
     },
     "execution_count": 13,
     "metadata": {},
     "output_type": "execute_result"
    }
   ],
   "source": [
    "df3['Age_Range'].value_counts()"
   ]
  },
  {
   "cell_type": "code",
   "execution_count": 14,
   "id": "f57319eb",
   "metadata": {},
   "outputs": [
    {
     "data": {
      "text/html": [
       "<div>\n",
       "<style scoped>\n",
       "    .dataframe tbody tr th:only-of-type {\n",
       "        vertical-align: middle;\n",
       "    }\n",
       "\n",
       "    .dataframe tbody tr th {\n",
       "        vertical-align: top;\n",
       "    }\n",
       "\n",
       "    .dataframe thead th {\n",
       "        text-align: right;\n",
       "    }\n",
       "</style>\n",
       "<table border=\"1\" class=\"dataframe\">\n",
       "  <thead>\n",
       "    <tr style=\"text-align: right;\">\n",
       "      <th></th>\n",
       "      <th>Age</th>\n",
       "      <th>Gender</th>\n",
       "      <th>Ethnicity</th>\n",
       "      <th>JPG</th>\n",
       "      <th>img_path</th>\n",
       "      <th>Age_Range</th>\n",
       "    </tr>\n",
       "  </thead>\n",
       "  <tbody>\n",
       "    <tr>\n",
       "      <th>0</th>\n",
       "      <td>100</td>\n",
       "      <td>1</td>\n",
       "      <td>0</td>\n",
       "      <td>100_1_0_20170110183726390.jpg.chip.jpg</td>\n",
       "      <td>crop_part1/100_1_0_20170110183726390.jpg.chip.jpg</td>\n",
       "      <td>60+</td>\n",
       "    </tr>\n",
       "    <tr>\n",
       "      <th>1</th>\n",
       "      <td>100</td>\n",
       "      <td>1</td>\n",
       "      <td>2</td>\n",
       "      <td>100_1_2_20170105174847679.jpg.chip.jpg</td>\n",
       "      <td>crop_part1/100_1_2_20170105174847679.jpg.chip.jpg</td>\n",
       "      <td>60+</td>\n",
       "    </tr>\n",
       "    <tr>\n",
       "      <th>2</th>\n",
       "      <td>101</td>\n",
       "      <td>1</td>\n",
       "      <td>2</td>\n",
       "      <td>101_1_2_20170105174739309.jpg.chip.jpg</td>\n",
       "      <td>crop_part1/101_1_2_20170105174739309.jpg.chip.jpg</td>\n",
       "      <td>60+</td>\n",
       "    </tr>\n",
       "    <tr>\n",
       "      <th>3</th>\n",
       "      <td>10</td>\n",
       "      <td>0</td>\n",
       "      <td>0</td>\n",
       "      <td>10_0_0_20161220222308131.jpg.chip.jpg</td>\n",
       "      <td>crop_part1/10_0_0_20161220222308131.jpg.chip.jpg</td>\n",
       "      <td>8-13</td>\n",
       "    </tr>\n",
       "    <tr>\n",
       "      <th>4</th>\n",
       "      <td>10</td>\n",
       "      <td>0</td>\n",
       "      <td>0</td>\n",
       "      <td>10_0_0_20170103200329407.jpg.chip.jpg</td>\n",
       "      <td>crop_part1/10_0_0_20170103200329407.jpg.chip.jpg</td>\n",
       "      <td>8-13</td>\n",
       "    </tr>\n",
       "    <tr>\n",
       "      <th>...</th>\n",
       "      <td>...</td>\n",
       "      <td>...</td>\n",
       "      <td>...</td>\n",
       "      <td>...</td>\n",
       "      <td>...</td>\n",
       "      <td>...</td>\n",
       "    </tr>\n",
       "    <tr>\n",
       "      <th>9771</th>\n",
       "      <td>9</td>\n",
       "      <td>1</td>\n",
       "      <td>3</td>\n",
       "      <td>9_1_3_20161220222856346.jpg.chip.jpg</td>\n",
       "      <td>crop_part1/9_1_3_20161220222856346.jpg.chip.jpg</td>\n",
       "      <td>8-13</td>\n",
       "    </tr>\n",
       "    <tr>\n",
       "      <th>9772</th>\n",
       "      <td>9</td>\n",
       "      <td>1</td>\n",
       "      <td>3</td>\n",
       "      <td>9_1_3_20170104222949455.jpg.chip.jpg</td>\n",
       "      <td>crop_part1/9_1_3_20170104222949455.jpg.chip.jpg</td>\n",
       "      <td>8-13</td>\n",
       "    </tr>\n",
       "    <tr>\n",
       "      <th>9773</th>\n",
       "      <td>9</td>\n",
       "      <td>1</td>\n",
       "      <td>4</td>\n",
       "      <td>9_1_4_20170103200637399.jpg.chip.jpg</td>\n",
       "      <td>crop_part1/9_1_4_20170103200637399.jpg.chip.jpg</td>\n",
       "      <td>8-13</td>\n",
       "    </tr>\n",
       "    <tr>\n",
       "      <th>9774</th>\n",
       "      <td>9</td>\n",
       "      <td>1</td>\n",
       "      <td>4</td>\n",
       "      <td>9_1_4_20170103200814791.jpg.chip.jpg</td>\n",
       "      <td>crop_part1/9_1_4_20170103200814791.jpg.chip.jpg</td>\n",
       "      <td>8-13</td>\n",
       "    </tr>\n",
       "    <tr>\n",
       "      <th>9775</th>\n",
       "      <td>9</td>\n",
       "      <td>1</td>\n",
       "      <td>4</td>\n",
       "      <td>9_1_4_20170103213057382.jpg.chip.jpg</td>\n",
       "      <td>crop_part1/9_1_4_20170103213057382.jpg.chip.jpg</td>\n",
       "      <td>8-13</td>\n",
       "    </tr>\n",
       "  </tbody>\n",
       "</table>\n",
       "<p>9776 rows × 6 columns</p>\n",
       "</div>"
      ],
      "text/plain": [
       "      Age Gender Ethnicity                                     JPG  \\\n",
       "0     100      1         0  100_1_0_20170110183726390.jpg.chip.jpg   \n",
       "1     100      1         2  100_1_2_20170105174847679.jpg.chip.jpg   \n",
       "2     101      1         2  101_1_2_20170105174739309.jpg.chip.jpg   \n",
       "3      10      0         0   10_0_0_20161220222308131.jpg.chip.jpg   \n",
       "4      10      0         0   10_0_0_20170103200329407.jpg.chip.jpg   \n",
       "...   ...    ...       ...                                     ...   \n",
       "9771    9      1         3    9_1_3_20161220222856346.jpg.chip.jpg   \n",
       "9772    9      1         3    9_1_3_20170104222949455.jpg.chip.jpg   \n",
       "9773    9      1         4    9_1_4_20170103200637399.jpg.chip.jpg   \n",
       "9774    9      1         4    9_1_4_20170103200814791.jpg.chip.jpg   \n",
       "9775    9      1         4    9_1_4_20170103213057382.jpg.chip.jpg   \n",
       "\n",
       "                                               img_path Age_Range  \n",
       "0     crop_part1/100_1_0_20170110183726390.jpg.chip.jpg       60+  \n",
       "1     crop_part1/100_1_2_20170105174847679.jpg.chip.jpg       60+  \n",
       "2     crop_part1/101_1_2_20170105174739309.jpg.chip.jpg       60+  \n",
       "3      crop_part1/10_0_0_20161220222308131.jpg.chip.jpg      8-13  \n",
       "4      crop_part1/10_0_0_20170103200329407.jpg.chip.jpg      8-13  \n",
       "...                                                 ...       ...  \n",
       "9771    crop_part1/9_1_3_20161220222856346.jpg.chip.jpg      8-13  \n",
       "9772    crop_part1/9_1_3_20170104222949455.jpg.chip.jpg      8-13  \n",
       "9773    crop_part1/9_1_4_20170103200637399.jpg.chip.jpg      8-13  \n",
       "9774    crop_part1/9_1_4_20170103200814791.jpg.chip.jpg      8-13  \n",
       "9775    crop_part1/9_1_4_20170103213057382.jpg.chip.jpg      8-13  \n",
       "\n",
       "[9776 rows x 6 columns]"
      ]
     },
     "metadata": {},
     "output_type": "display_data"
    }
   ],
   "source": [
    "df4 = pd.concat([df2, df3], axis=1, join='inner')\n",
    "display(df4)"
   ]
  },
  {
   "cell_type": "code",
   "execution_count": 15,
   "id": "ea091017",
   "metadata": {},
   "outputs": [
    {
     "data": {
      "text/html": [
       "<div>\n",
       "<style scoped>\n",
       "    .dataframe tbody tr th:only-of-type {\n",
       "        vertical-align: middle;\n",
       "    }\n",
       "\n",
       "    .dataframe tbody tr th {\n",
       "        vertical-align: top;\n",
       "    }\n",
       "\n",
       "    .dataframe thead th {\n",
       "        text-align: right;\n",
       "    }\n",
       "</style>\n",
       "<table border=\"1\" class=\"dataframe\">\n",
       "  <thead>\n",
       "    <tr style=\"text-align: right;\">\n",
       "      <th></th>\n",
       "      <th>Age</th>\n",
       "      <th>Gender</th>\n",
       "      <th>Ethnicity</th>\n",
       "      <th>JPG</th>\n",
       "      <th>img_path</th>\n",
       "      <th>Age_Range</th>\n",
       "      <th>Age_Range_Num</th>\n",
       "    </tr>\n",
       "  </thead>\n",
       "  <tbody>\n",
       "    <tr>\n",
       "      <th>0</th>\n",
       "      <td>100</td>\n",
       "      <td>1</td>\n",
       "      <td>0</td>\n",
       "      <td>100_1_0_20170110183726390.jpg.chip.jpg</td>\n",
       "      <td>crop_part1/100_1_0_20170110183726390.jpg.chip.jpg</td>\n",
       "      <td>60+</td>\n",
       "      <td>7</td>\n",
       "    </tr>\n",
       "    <tr>\n",
       "      <th>1</th>\n",
       "      <td>100</td>\n",
       "      <td>1</td>\n",
       "      <td>2</td>\n",
       "      <td>100_1_2_20170105174847679.jpg.chip.jpg</td>\n",
       "      <td>crop_part1/100_1_2_20170105174847679.jpg.chip.jpg</td>\n",
       "      <td>60+</td>\n",
       "      <td>7</td>\n",
       "    </tr>\n",
       "    <tr>\n",
       "      <th>2</th>\n",
       "      <td>101</td>\n",
       "      <td>1</td>\n",
       "      <td>2</td>\n",
       "      <td>101_1_2_20170105174739309.jpg.chip.jpg</td>\n",
       "      <td>crop_part1/101_1_2_20170105174739309.jpg.chip.jpg</td>\n",
       "      <td>60+</td>\n",
       "      <td>7</td>\n",
       "    </tr>\n",
       "    <tr>\n",
       "      <th>3</th>\n",
       "      <td>10</td>\n",
       "      <td>0</td>\n",
       "      <td>0</td>\n",
       "      <td>10_0_0_20161220222308131.jpg.chip.jpg</td>\n",
       "      <td>crop_part1/10_0_0_20161220222308131.jpg.chip.jpg</td>\n",
       "      <td>8-13</td>\n",
       "      <td>2</td>\n",
       "    </tr>\n",
       "    <tr>\n",
       "      <th>4</th>\n",
       "      <td>10</td>\n",
       "      <td>0</td>\n",
       "      <td>0</td>\n",
       "      <td>10_0_0_20170103200329407.jpg.chip.jpg</td>\n",
       "      <td>crop_part1/10_0_0_20170103200329407.jpg.chip.jpg</td>\n",
       "      <td>8-13</td>\n",
       "      <td>2</td>\n",
       "    </tr>\n",
       "  </tbody>\n",
       "</table>\n",
       "</div>"
      ],
      "text/plain": [
       "   Age Gender Ethnicity                                     JPG  \\\n",
       "0  100      1         0  100_1_0_20170110183726390.jpg.chip.jpg   \n",
       "1  100      1         2  100_1_2_20170105174847679.jpg.chip.jpg   \n",
       "2  101      1         2  101_1_2_20170105174739309.jpg.chip.jpg   \n",
       "3   10      0         0   10_0_0_20161220222308131.jpg.chip.jpg   \n",
       "4   10      0         0   10_0_0_20170103200329407.jpg.chip.jpg   \n",
       "\n",
       "                                            img_path Age_Range  Age_Range_Num  \n",
       "0  crop_part1/100_1_0_20170110183726390.jpg.chip.jpg       60+              7  \n",
       "1  crop_part1/100_1_2_20170105174847679.jpg.chip.jpg       60+              7  \n",
       "2  crop_part1/101_1_2_20170105174739309.jpg.chip.jpg       60+              7  \n",
       "3   crop_part1/10_0_0_20161220222308131.jpg.chip.jpg      8-13              2  \n",
       "4   crop_part1/10_0_0_20170103200329407.jpg.chip.jpg      8-13              2  "
      ]
     },
     "execution_count": 15,
     "metadata": {},
     "output_type": "execute_result"
    }
   ],
   "source": [
    "age_to_label_map = {\n",
    "    '0-2'  :0,\n",
    "    '4-6'  :1,\n",
    "    '8-13' :2,\n",
    "    '15-20':3,\n",
    "    '25-32':4,\n",
    "    '38-43':5,\n",
    "    '48-53':6,\n",
    "    '60+'  :7\n",
    "}\n",
    "df4['Age_Range_Num'] = df4['Age_Range'].apply(lambda Age_Range: age_to_label_map[Age_Range])\n",
    "df4.head()"
   ]
  },
  {
   "cell_type": "code",
   "execution_count": 16,
   "id": "9ac24592",
   "metadata": {},
   "outputs": [
    {
     "data": {
      "text/html": [
       "<div>\n",
       "<style scoped>\n",
       "    .dataframe tbody tr th:only-of-type {\n",
       "        vertical-align: middle;\n",
       "    }\n",
       "\n",
       "    .dataframe tbody tr th {\n",
       "        vertical-align: top;\n",
       "    }\n",
       "\n",
       "    .dataframe thead th {\n",
       "        text-align: right;\n",
       "    }\n",
       "</style>\n",
       "<table border=\"1\" class=\"dataframe\">\n",
       "  <thead>\n",
       "    <tr style=\"text-align: right;\">\n",
       "      <th></th>\n",
       "      <th>Age</th>\n",
       "      <th>Gender</th>\n",
       "      <th>Ethnicity</th>\n",
       "      <th>JPG</th>\n",
       "      <th>img_path</th>\n",
       "    </tr>\n",
       "  </thead>\n",
       "  <tbody>\n",
       "    <tr>\n",
       "      <th>0</th>\n",
       "      <td>100</td>\n",
       "      <td>1</td>\n",
       "      <td>0</td>\n",
       "      <td>100_1_0_20170110183726390.jpg.chip.jpg</td>\n",
       "      <td>crop_part1/100_1_0_20170110183726390.jpg.chip.jpg</td>\n",
       "    </tr>\n",
       "    <tr>\n",
       "      <th>1</th>\n",
       "      <td>100</td>\n",
       "      <td>1</td>\n",
       "      <td>2</td>\n",
       "      <td>100_1_2_20170105174847679.jpg.chip.jpg</td>\n",
       "      <td>crop_part1/100_1_2_20170105174847679.jpg.chip.jpg</td>\n",
       "    </tr>\n",
       "    <tr>\n",
       "      <th>2</th>\n",
       "      <td>101</td>\n",
       "      <td>1</td>\n",
       "      <td>2</td>\n",
       "      <td>101_1_2_20170105174739309.jpg.chip.jpg</td>\n",
       "      <td>crop_part1/101_1_2_20170105174739309.jpg.chip.jpg</td>\n",
       "    </tr>\n",
       "    <tr>\n",
       "      <th>3</th>\n",
       "      <td>10</td>\n",
       "      <td>0</td>\n",
       "      <td>0</td>\n",
       "      <td>10_0_0_20161220222308131.jpg.chip.jpg</td>\n",
       "      <td>crop_part1/10_0_0_20161220222308131.jpg.chip.jpg</td>\n",
       "    </tr>\n",
       "    <tr>\n",
       "      <th>4</th>\n",
       "      <td>10</td>\n",
       "      <td>0</td>\n",
       "      <td>0</td>\n",
       "      <td>10_0_0_20170103200329407.jpg.chip.jpg</td>\n",
       "      <td>crop_part1/10_0_0_20170103200329407.jpg.chip.jpg</td>\n",
       "    </tr>\n",
       "    <tr>\n",
       "      <th>...</th>\n",
       "      <td>...</td>\n",
       "      <td>...</td>\n",
       "      <td>...</td>\n",
       "      <td>...</td>\n",
       "      <td>...</td>\n",
       "    </tr>\n",
       "    <tr>\n",
       "      <th>9771</th>\n",
       "      <td>9</td>\n",
       "      <td>1</td>\n",
       "      <td>3</td>\n",
       "      <td>9_1_3_20161220222856346.jpg.chip.jpg</td>\n",
       "      <td>crop_part1/9_1_3_20161220222856346.jpg.chip.jpg</td>\n",
       "    </tr>\n",
       "    <tr>\n",
       "      <th>9772</th>\n",
       "      <td>9</td>\n",
       "      <td>1</td>\n",
       "      <td>3</td>\n",
       "      <td>9_1_3_20170104222949455.jpg.chip.jpg</td>\n",
       "      <td>crop_part1/9_1_3_20170104222949455.jpg.chip.jpg</td>\n",
       "    </tr>\n",
       "    <tr>\n",
       "      <th>9773</th>\n",
       "      <td>9</td>\n",
       "      <td>1</td>\n",
       "      <td>4</td>\n",
       "      <td>9_1_4_20170103200637399.jpg.chip.jpg</td>\n",
       "      <td>crop_part1/9_1_4_20170103200637399.jpg.chip.jpg</td>\n",
       "    </tr>\n",
       "    <tr>\n",
       "      <th>9774</th>\n",
       "      <td>9</td>\n",
       "      <td>1</td>\n",
       "      <td>4</td>\n",
       "      <td>9_1_4_20170103200814791.jpg.chip.jpg</td>\n",
       "      <td>crop_part1/9_1_4_20170103200814791.jpg.chip.jpg</td>\n",
       "    </tr>\n",
       "    <tr>\n",
       "      <th>9775</th>\n",
       "      <td>9</td>\n",
       "      <td>1</td>\n",
       "      <td>4</td>\n",
       "      <td>9_1_4_20170103213057382.jpg.chip.jpg</td>\n",
       "      <td>crop_part1/9_1_4_20170103213057382.jpg.chip.jpg</td>\n",
       "    </tr>\n",
       "  </tbody>\n",
       "</table>\n",
       "<p>9776 rows × 5 columns</p>\n",
       "</div>"
      ],
      "text/plain": [
       "      Age Gender Ethnicity                                     JPG  \\\n",
       "0     100      1         0  100_1_0_20170110183726390.jpg.chip.jpg   \n",
       "1     100      1         2  100_1_2_20170105174847679.jpg.chip.jpg   \n",
       "2     101      1         2  101_1_2_20170105174739309.jpg.chip.jpg   \n",
       "3      10      0         0   10_0_0_20161220222308131.jpg.chip.jpg   \n",
       "4      10      0         0   10_0_0_20170103200329407.jpg.chip.jpg   \n",
       "...   ...    ...       ...                                     ...   \n",
       "9771    9      1         3    9_1_3_20161220222856346.jpg.chip.jpg   \n",
       "9772    9      1         3    9_1_3_20170104222949455.jpg.chip.jpg   \n",
       "9773    9      1         4    9_1_4_20170103200637399.jpg.chip.jpg   \n",
       "9774    9      1         4    9_1_4_20170103200814791.jpg.chip.jpg   \n",
       "9775    9      1         4    9_1_4_20170103213057382.jpg.chip.jpg   \n",
       "\n",
       "                                               img_path  \n",
       "0     crop_part1/100_1_0_20170110183726390.jpg.chip.jpg  \n",
       "1     crop_part1/100_1_2_20170105174847679.jpg.chip.jpg  \n",
       "2     crop_part1/101_1_2_20170105174739309.jpg.chip.jpg  \n",
       "3      crop_part1/10_0_0_20161220222308131.jpg.chip.jpg  \n",
       "4      crop_part1/10_0_0_20170103200329407.jpg.chip.jpg  \n",
       "...                                                 ...  \n",
       "9771    crop_part1/9_1_3_20161220222856346.jpg.chip.jpg  \n",
       "9772    crop_part1/9_1_3_20170104222949455.jpg.chip.jpg  \n",
       "9773    crop_part1/9_1_4_20170103200637399.jpg.chip.jpg  \n",
       "9774    crop_part1/9_1_4_20170103200814791.jpg.chip.jpg  \n",
       "9775    crop_part1/9_1_4_20170103213057382.jpg.chip.jpg  \n",
       "\n",
       "[9776 rows x 5 columns]"
      ]
     },
     "execution_count": 16,
     "metadata": {},
     "output_type": "execute_result"
    }
   ],
   "source": [
    "df2"
   ]
  },
  {
   "cell_type": "code",
   "execution_count": 17,
   "id": "26fcd2d8",
   "metadata": {},
   "outputs": [
    {
     "name": "stdout",
     "output_type": "stream",
     "text": [
      "Train data shape (6843, 1)\n",
      "Test data shape (2933, 1)\n",
      "Train images shape (6843, 227, 227, 3)\n",
      "Test images shape (2933, 227, 227, 3)\n"
     ]
    }
   ],
   "source": [
    "X = df2[['img_path']]\n",
    "y = df2[['Gender']]\n",
    "from sklearn.model_selection import train_test_split\n",
    "X_train, X_test, y_train, y_test = train_test_split(X, y, test_size=0.3, random_state=42)\n",
    "\n",
    "print('Train data shape {}'.format(X_train.shape))\n",
    "print('Test data shape {}'.format(X_test.shape))\n",
    "\n",
    "train_images = []\n",
    "test_images = []\n",
    "\n",
    "for row in X_train.iterrows():\n",
    "    image = Image.open(row[1].img_path)\n",
    "    image = image.resize((227, 227))   # Resize the image\n",
    "    data = np.asarray(image)\n",
    "    train_images.append(data)\n",
    "    \n",
    "for row in X_test.iterrows():\n",
    "    image = Image.open(row[1].img_path)\n",
    "    image = image.resize((227, 227))  # Resize the image\n",
    "    data = np.asarray(image)\n",
    "    test_images.append(data)\n",
    "    \n",
    "train_images = np.array(train_images)\n",
    "test_images = np.array(test_images)\n",
    "\n",
    "print('Train images shape {}'.format(train_images.shape))\n",
    "print('Test images shape {}'.format(test_images.shape))"
   ]
  },
  {
   "cell_type": "code",
   "execution_count": 18,
   "id": "c82ff6ca",
   "metadata": {},
   "outputs": [
    {
     "name": "stdout",
     "output_type": "stream",
     "text": [
      "6843\n",
      "2933\n",
      "6843\n",
      "2933\n"
     ]
    }
   ],
   "source": [
    "print(len(train_images))\n",
    "print(len(test_images))\n",
    "print(len(y_train))\n",
    "print(len(y_test))\n"
   ]
  },
  {
   "cell_type": "code",
   "execution_count": 19,
   "id": "65f403dd",
   "metadata": {},
   "outputs": [
    {
     "data": {
      "text/html": [
       "<div>\n",
       "<style scoped>\n",
       "    .dataframe tbody tr th:only-of-type {\n",
       "        vertical-align: middle;\n",
       "    }\n",
       "\n",
       "    .dataframe tbody tr th {\n",
       "        vertical-align: top;\n",
       "    }\n",
       "\n",
       "    .dataframe thead th {\n",
       "        text-align: right;\n",
       "    }\n",
       "</style>\n",
       "<table border=\"1\" class=\"dataframe\">\n",
       "  <thead>\n",
       "    <tr style=\"text-align: right;\">\n",
       "      <th></th>\n",
       "      <th>Gender</th>\n",
       "    </tr>\n",
       "  </thead>\n",
       "  <tbody>\n",
       "    <tr>\n",
       "      <th>7951</th>\n",
       "      <td>1</td>\n",
       "    </tr>\n",
       "    <tr>\n",
       "      <th>7632</th>\n",
       "      <td>1</td>\n",
       "    </tr>\n",
       "    <tr>\n",
       "      <th>7411</th>\n",
       "      <td>0</td>\n",
       "    </tr>\n",
       "    <tr>\n",
       "      <th>665</th>\n",
       "      <td>1</td>\n",
       "    </tr>\n",
       "    <tr>\n",
       "      <th>3071</th>\n",
       "      <td>1</td>\n",
       "    </tr>\n",
       "    <tr>\n",
       "      <th>...</th>\n",
       "      <td>...</td>\n",
       "    </tr>\n",
       "    <tr>\n",
       "      <th>5734</th>\n",
       "      <td>0</td>\n",
       "    </tr>\n",
       "    <tr>\n",
       "      <th>5191</th>\n",
       "      <td>1</td>\n",
       "    </tr>\n",
       "    <tr>\n",
       "      <th>5390</th>\n",
       "      <td>0</td>\n",
       "    </tr>\n",
       "    <tr>\n",
       "      <th>860</th>\n",
       "      <td>1</td>\n",
       "    </tr>\n",
       "    <tr>\n",
       "      <th>7270</th>\n",
       "      <td>1</td>\n",
       "    </tr>\n",
       "  </tbody>\n",
       "</table>\n",
       "<p>6843 rows × 1 columns</p>\n",
       "</div>"
      ],
      "text/plain": [
       "     Gender\n",
       "7951      1\n",
       "7632      1\n",
       "7411      0\n",
       "665       1\n",
       "3071      1\n",
       "...     ...\n",
       "5734      0\n",
       "5191      1\n",
       "5390      0\n",
       "860       1\n",
       "7270      1\n",
       "\n",
       "[6843 rows x 1 columns]"
      ]
     },
     "execution_count": 19,
     "metadata": {},
     "output_type": "execute_result"
    }
   ],
   "source": [
    "y_train"
   ]
  },
  {
   "cell_type": "code",
   "execution_count": 20,
   "id": "197e5dad",
   "metadata": {},
   "outputs": [
    {
     "name": "stderr",
     "output_type": "stream",
     "text": [
      "C:\\Users\\bohne\\AppData\\Local\\Temp/ipykernel_13788/2852922740.py:1: SettingWithCopyWarning: \n",
      "A value is trying to be set on a copy of a slice from a DataFrame.\n",
      "Try using .loc[row_indexer,col_indexer] = value instead\n",
      "\n",
      "See the caveats in the documentation: https://pandas.pydata.org/pandas-docs/stable/user_guide/indexing.html#returning-a-view-versus-a-copy\n",
      "  y_train['Gender'] = pd.to_numeric(y_train[\"Gender\"])\n",
      "C:\\Users\\bohne\\AppData\\Local\\Temp/ipykernel_13788/2852922740.py:2: SettingWithCopyWarning: \n",
      "A value is trying to be set on a copy of a slice from a DataFrame.\n",
      "Try using .loc[row_indexer,col_indexer] = value instead\n",
      "\n",
      "See the caveats in the documentation: https://pandas.pydata.org/pandas-docs/stable/user_guide/indexing.html#returning-a-view-versus-a-copy\n",
      "  y_test['Gender'] = pd.to_numeric(y_test[\"Gender\"])\n"
     ]
    }
   ],
   "source": [
    "\n",
    "y_train['Gender'] = pd.to_numeric(y_train[\"Gender\"])\n",
    "y_test['Gender'] = pd.to_numeric(y_test[\"Gender\"])"
   ]
  },
  {
   "cell_type": "code",
   "execution_count": 21,
   "id": "64a4cad4",
   "metadata": {},
   "outputs": [
    {
     "name": "stdout",
     "output_type": "stream",
     "text": [
      "Gender    int64\n",
      "dtype: object\n",
      "Gender    int64\n",
      "dtype: object\n"
     ]
    }
   ],
   "source": [
    "print(y_train.dtypes)\n",
    "print(y_test.dtypes)"
   ]
  },
  {
   "cell_type": "code",
   "execution_count": 22,
   "id": "6e9b1891",
   "metadata": {},
   "outputs": [
    {
     "name": "stdout",
     "output_type": "stream",
     "text": [
      "(6843, 154587)\n"
     ]
    }
   ],
   "source": [
    "dataset_size = train_images.shape[0]\n",
    "train_images = train_images.reshape(dataset_size, -1)\n",
    "\n",
    "print(train_images.shape)"
   ]
  },
  {
   "cell_type": "code",
   "execution_count": 23,
   "id": "f62b4e97",
   "metadata": {},
   "outputs": [
    {
     "name": "stderr",
     "output_type": "stream",
     "text": [
      "C:\\Users\\bohne\\anaconda3\\lib\\site-packages\\sklearn\\neighbors\\_classification.py:179: DataConversionWarning: A column-vector y was passed when a 1d array was expected. Please change the shape of y to (n_samples,), for example using ravel().\n",
      "  return self._fit(X, y)\n"
     ]
    },
    {
     "data": {
      "text/plain": [
       "KNeighborsClassifier(n_jobs=-1, n_neighbors=10)"
      ]
     },
     "execution_count": 23,
     "metadata": {},
     "output_type": "execute_result"
    }
   ],
   "source": [
    "from sklearn.neighbors import KNeighborsClassifier\n",
    "model = KNeighborsClassifier(n_neighbors=10, n_jobs=-1)\n",
    "model.fit(train_images, y_train)"
   ]
  },
  {
   "cell_type": "code",
   "execution_count": 24,
   "id": "bfe307dc",
   "metadata": {},
   "outputs": [
    {
     "name": "stdout",
     "output_type": "stream",
     "text": [
      "(2933, 154587)\n"
     ]
    }
   ],
   "source": [
    "dataset_size = test_images.shape[0]\n",
    "test_images = test_images.reshape(dataset_size, -1)\n",
    "print(test_images.shape)"
   ]
  },
  {
   "cell_type": "code",
   "execution_count": 25,
   "id": "54e3cc9f",
   "metadata": {},
   "outputs": [],
   "source": [
    "y_pred = model.predict(test_images)"
   ]
  },
  {
   "cell_type": "code",
   "execution_count": 26,
   "id": "c3825331",
   "metadata": {},
   "outputs": [
    {
     "data": {
      "text/plain": [
       "0.7020115922263893"
      ]
     },
     "execution_count": 26,
     "metadata": {},
     "output_type": "execute_result"
    }
   ],
   "source": [
    "accuracy_score(list(y_test['Gender']), y_pred)"
   ]
  },
  {
   "cell_type": "code",
   "execution_count": 27,
   "id": "cd32ab00",
   "metadata": {},
   "outputs": [
    {
     "data": {
      "image/png": "[encoded data removed]",
      "text/plain": [
       "<Figure size 432x288 with 2 Axes>"
      ]
     },
     "metadata": {
      "needs_background": "light"
     },
     "output_type": "display_data"
    }
   ],
   "source": [
    "from sklearn.metrics import confusion_matrix, ConfusionMatrixDisplay\n",
    "\n",
    "cm = confusion_matrix(list(y_test['Gender']), y_pred, labels=model.classes_)\n",
    "disp = ConfusionMatrixDisplay(confusion_matrix=cm,\n",
    "                              display_labels=model.classes_)\n",
    "disp.plot()\n",
    "\n",
    "plt.show()"
   ]
  },
  {
   "cell_type": "code",
   "execution_count": 28,
   "id": "fdd94041",
   "metadata": {},
   "outputs": [
    {
     "data": {
      "text/html": [
       "<div>\n",
       "<style scoped>\n",
       "    .dataframe tbody tr th:only-of-type {\n",
       "        vertical-align: middle;\n",
       "    }\n",
       "\n",
       "    .dataframe tbody tr th {\n",
       "        vertical-align: top;\n",
       "    }\n",
       "\n",
       "    .dataframe thead th {\n",
       "        text-align: right;\n",
       "    }\n",
       "</style>\n",
       "<table border=\"1\" class=\"dataframe\">\n",
       "  <thead>\n",
       "    <tr style=\"text-align: right;\">\n",
       "      <th></th>\n",
       "      <th>Age</th>\n",
       "      <th>Gender</th>\n",
       "      <th>Ethnicity</th>\n",
       "      <th>JPG</th>\n",
       "      <th>img_path</th>\n",
       "      <th>Age_Range</th>\n",
       "      <th>Age_Range_Num</th>\n",
       "    </tr>\n",
       "  </thead>\n",
       "  <tbody>\n",
       "    <tr>\n",
       "      <th>0</th>\n",
       "      <td>100</td>\n",
       "      <td>1</td>\n",
       "      <td>0</td>\n",
       "      <td>100_1_0_20170110183726390.jpg.chip.jpg</td>\n",
       "      <td>crop_part1/100_1_0_20170110183726390.jpg.chip.jpg</td>\n",
       "      <td>60+</td>\n",
       "      <td>7</td>\n",
       "    </tr>\n",
       "    <tr>\n",
       "      <th>1</th>\n",
       "      <td>100</td>\n",
       "      <td>1</td>\n",
       "      <td>2</td>\n",
       "      <td>100_1_2_20170105174847679.jpg.chip.jpg</td>\n",
       "      <td>crop_part1/100_1_2_20170105174847679.jpg.chip.jpg</td>\n",
       "      <td>60+</td>\n",
       "      <td>7</td>\n",
       "    </tr>\n",
       "    <tr>\n",
       "      <th>2</th>\n",
       "      <td>101</td>\n",
       "      <td>1</td>\n",
       "      <td>2</td>\n",
       "      <td>101_1_2_20170105174739309.jpg.chip.jpg</td>\n",
       "      <td>crop_part1/101_1_2_20170105174739309.jpg.chip.jpg</td>\n",
       "      <td>60+</td>\n",
       "      <td>7</td>\n",
       "    </tr>\n",
       "    <tr>\n",
       "      <th>3</th>\n",
       "      <td>10</td>\n",
       "      <td>0</td>\n",
       "      <td>0</td>\n",
       "      <td>10_0_0_20161220222308131.jpg.chip.jpg</td>\n",
       "      <td>crop_part1/10_0_0_20161220222308131.jpg.chip.jpg</td>\n",
       "      <td>8-13</td>\n",
       "      <td>2</td>\n",
       "    </tr>\n",
       "    <tr>\n",
       "      <th>4</th>\n",
       "      <td>10</td>\n",
       "      <td>0</td>\n",
       "      <td>0</td>\n",
       "      <td>10_0_0_20170103200329407.jpg.chip.jpg</td>\n",
       "      <td>crop_part1/10_0_0_20170103200329407.jpg.chip.jpg</td>\n",
       "      <td>8-13</td>\n",
       "      <td>2</td>\n",
       "    </tr>\n",
       "  </tbody>\n",
       "</table>\n",
       "</div>"
      ],
      "text/plain": [
       "   Age Gender Ethnicity                                     JPG  \\\n",
       "0  100      1         0  100_1_0_20170110183726390.jpg.chip.jpg   \n",
       "1  100      1         2  100_1_2_20170105174847679.jpg.chip.jpg   \n",
       "2  101      1         2  101_1_2_20170105174739309.jpg.chip.jpg   \n",
       "3   10      0         0   10_0_0_20161220222308131.jpg.chip.jpg   \n",
       "4   10      0         0   10_0_0_20170103200329407.jpg.chip.jpg   \n",
       "\n",
       "                                            img_path Age_Range  Age_Range_Num  \n",
       "0  crop_part1/100_1_0_20170110183726390.jpg.chip.jpg       60+              7  \n",
       "1  crop_part1/100_1_2_20170105174847679.jpg.chip.jpg       60+              7  \n",
       "2  crop_part1/101_1_2_20170105174739309.jpg.chip.jpg       60+              7  \n",
       "3   crop_part1/10_0_0_20161220222308131.jpg.chip.jpg      8-13              2  \n",
       "4   crop_part1/10_0_0_20170103200329407.jpg.chip.jpg      8-13              2  "
      ]
     },
     "execution_count": 28,
     "metadata": {},
     "output_type": "execute_result"
    }
   ],
   "source": [
    "df4.head()"
   ]
  },
  {
   "cell_type": "code",
   "execution_count": null,
   "id": "6a2dac0b",
   "metadata": {},
   "outputs": [],
   "source": []
  },
  {
   "cell_type": "code",
   "execution_count": 29,
   "id": "b2e50270",
   "metadata": {},
   "outputs": [
    {
     "name": "stdout",
     "output_type": "stream",
     "text": [
      "Train data shape (6843, 1)\n",
      "Test data shape (2933, 1)\n",
      "Train images shape (6843, 227, 227, 3)\n",
      "Test images shape (2933, 227, 227, 3)\n"
     ]
    }
   ],
   "source": [
    "X = df4[['img_path']]\n",
    "y = df4[['Age_Range_Num']]\n",
    "\n",
    "from sklearn.model_selection import train_test_split\n",
    "X_train, X_test, y_train, y_test = train_test_split(X, y, test_size=0.3, random_state=42)\n",
    "\n",
    "print('Train data shape {}'.format(X_train.shape))\n",
    "print('Test data shape {}'.format(X_test.shape))\n",
    "\n",
    "train_images = []\n",
    "test_images = []\n",
    "\n",
    "for row in X_train.iterrows():\n",
    "    image = Image.open(row[1].img_path)\n",
    "    image = image.resize((227, 227))   # Resize the image\n",
    "    data = np.asarray(image)\n",
    "    train_images.append(data)\n",
    "    \n",
    "for row in X_test.iterrows():\n",
    "    image = Image.open(row[1].img_path)\n",
    "    image = image.resize((227, 227))  # Resize the image\n",
    "    data = np.asarray(image)\n",
    "    test_images.append(data)\n",
    "    \n",
    "train_images = np.asarray(train_images)\n",
    "test_images = np.asarray(test_images)\n",
    "\n",
    "print('Train images shape {}'.format(train_images.shape))\n",
    "print('Test images shape {}'.format(test_images.shape))\n",
    "\n"
   ]
  },
  {
   "cell_type": "code",
   "execution_count": 30,
   "id": "7ebe6db5",
   "metadata": {},
   "outputs": [
    {
     "data": {
      "text/plain": [
       "Age              object\n",
       "Gender           object\n",
       "Ethnicity        object\n",
       "JPG              object\n",
       "img_path         object\n",
       "Age_Range        object\n",
       "Age_Range_Num     int64\n",
       "dtype: object"
      ]
     },
     "execution_count": 30,
     "metadata": {},
     "output_type": "execute_result"
    }
   ],
   "source": [
    "df4.dtypes"
   ]
  },
  {
   "cell_type": "code",
   "execution_count": 31,
   "id": "992d0944",
   "metadata": {},
   "outputs": [
    {
     "name": "stderr",
     "output_type": "stream",
     "text": [
      "C:\\Users\\bohne\\anaconda3\\lib\\site-packages\\sklearn\\neighbors\\_classification.py:179: DataConversionWarning: A column-vector y was passed when a 1d array was expected. Please change the shape of y to (n_samples,), for example using ravel().\n",
      "  return self._fit(X, y)\n"
     ]
    },
    {
     "data": {
      "text/plain": [
       "KNeighborsClassifier(n_jobs=-1, n_neighbors=10)"
      ]
     },
     "execution_count": 31,
     "metadata": {},
     "output_type": "execute_result"
    }
   ],
   "source": [
    "dataset_size = train_images.shape[0]\n",
    "train_images = train_images.reshape(dataset_size, -1)\n",
    "\n",
    "model = KNeighborsClassifier(n_neighbors=10, n_jobs=-1)\n",
    "model.fit(train_images, y_train)"
   ]
  },
  {
   "cell_type": "code",
   "execution_count": 32,
   "id": "8ab6956a",
   "metadata": {},
   "outputs": [
    {
     "name": "stdout",
     "output_type": "stream",
     "text": [
      "(2933, 154587)\n"
     ]
    }
   ],
   "source": [
    "dataset_size = test_images.shape[0]\n",
    "test_images = test_images.reshape(dataset_size, -1)\n",
    "print(test_images.shape)"
   ]
  },
  {
   "cell_type": "code",
   "execution_count": 33,
   "id": "0ec878bd",
   "metadata": {},
   "outputs": [],
   "source": [
    "y_pred = model.predict(test_images)"
   ]
  },
  {
   "cell_type": "code",
   "execution_count": 34,
   "id": "dc4a5175",
   "metadata": {},
   "outputs": [
    {
     "data": {
      "text/plain": [
       "0.3876576883736788"
      ]
     },
     "execution_count": 34,
     "metadata": {},
     "output_type": "execute_result"
    }
   ],
   "source": [
    "accuracy_score(list(y_test['Age_Range_Num']), y_pred)"
   ]
  },
  {
   "cell_type": "code",
   "execution_count": 35,
   "id": "ed73847d",
   "metadata": {},
   "outputs": [
    {
     "data": {
      "image/png": "[encoded data removed]",
      "text/plain": [
       "<Figure size 432x288 with 2 Axes>"
      ]
     },
     "metadata": {
      "needs_background": "light"
     },
     "output_type": "display_data"
    }
   ],
   "source": [
    "cm = confusion_matrix(list(y_test['Age_Range_Num']), y_pred, labels=model.classes_)\n",
    "disp = ConfusionMatrixDisplay(confusion_matrix=cm,\n",
    "                              display_labels=model.classes_)\n",
    "disp.plot()\n",
    "\n",
    "plt.show()"
   ]
  },
  {
   "cell_type": "code",
   "execution_count": null,
   "id": "57db5232",
   "metadata": {},
   "outputs": [],
   "source": []
  },
  {
   "cell_type": "code",
   "execution_count": 36,
   "id": "78aa2a11",
   "metadata": {},
   "outputs": [
    {
     "data": {
      "text/html": [
       "<div>\n",
       "<style scoped>\n",
       "    .dataframe tbody tr th:only-of-type {\n",
       "        vertical-align: middle;\n",
       "    }\n",
       "\n",
       "    .dataframe tbody tr th {\n",
       "        vertical-align: top;\n",
       "    }\n",
       "\n",
       "    .dataframe thead th {\n",
       "        text-align: right;\n",
       "    }\n",
       "</style>\n",
       "<table border=\"1\" class=\"dataframe\">\n",
       "  <thead>\n",
       "    <tr style=\"text-align: right;\">\n",
       "      <th></th>\n",
       "      <th>Age</th>\n",
       "      <th>Gender</th>\n",
       "      <th>Ethnicity</th>\n",
       "      <th>JPG</th>\n",
       "      <th>img_path</th>\n",
       "      <th>Age_Range</th>\n",
       "      <th>Age_Range_Num</th>\n",
       "    </tr>\n",
       "  </thead>\n",
       "  <tbody>\n",
       "    <tr>\n",
       "      <th>0</th>\n",
       "      <td>100</td>\n",
       "      <td>1</td>\n",
       "      <td>0</td>\n",
       "      <td>100_1_0_20170110183726390.jpg.chip.jpg</td>\n",
       "      <td>crop_part1/100_1_0_20170110183726390.jpg.chip.jpg</td>\n",
       "      <td>60+</td>\n",
       "      <td>7</td>\n",
       "    </tr>\n",
       "    <tr>\n",
       "      <th>1</th>\n",
       "      <td>100</td>\n",
       "      <td>1</td>\n",
       "      <td>2</td>\n",
       "      <td>100_1_2_20170105174847679.jpg.chip.jpg</td>\n",
       "      <td>crop_part1/100_1_2_20170105174847679.jpg.chip.jpg</td>\n",
       "      <td>60+</td>\n",
       "      <td>7</td>\n",
       "    </tr>\n",
       "    <tr>\n",
       "      <th>2</th>\n",
       "      <td>101</td>\n",
       "      <td>1</td>\n",
       "      <td>2</td>\n",
       "      <td>101_1_2_20170105174739309.jpg.chip.jpg</td>\n",
       "      <td>crop_part1/101_1_2_20170105174739309.jpg.chip.jpg</td>\n",
       "      <td>60+</td>\n",
       "      <td>7</td>\n",
       "    </tr>\n",
       "    <tr>\n",
       "      <th>3</th>\n",
       "      <td>10</td>\n",
       "      <td>0</td>\n",
       "      <td>0</td>\n",
       "      <td>10_0_0_20161220222308131.jpg.chip.jpg</td>\n",
       "      <td>crop_part1/10_0_0_20161220222308131.jpg.chip.jpg</td>\n",
       "      <td>8-13</td>\n",
       "      <td>2</td>\n",
       "    </tr>\n",
       "    <tr>\n",
       "      <th>4</th>\n",
       "      <td>10</td>\n",
       "      <td>0</td>\n",
       "      <td>0</td>\n",
       "      <td>10_0_0_20170103200329407.jpg.chip.jpg</td>\n",
       "      <td>crop_part1/10_0_0_20170103200329407.jpg.chip.jpg</td>\n",
       "      <td>8-13</td>\n",
       "      <td>2</td>\n",
       "    </tr>\n",
       "  </tbody>\n",
       "</table>\n",
       "</div>"
      ],
      "text/plain": [
       "   Age Gender Ethnicity                                     JPG  \\\n",
       "0  100      1         0  100_1_0_20170110183726390.jpg.chip.jpg   \n",
       "1  100      1         2  100_1_2_20170105174847679.jpg.chip.jpg   \n",
       "2  101      1         2  101_1_2_20170105174739309.jpg.chip.jpg   \n",
       "3   10      0         0   10_0_0_20161220222308131.jpg.chip.jpg   \n",
       "4   10      0         0   10_0_0_20170103200329407.jpg.chip.jpg   \n",
       "\n",
       "                                            img_path Age_Range  Age_Range_Num  \n",
       "0  crop_part1/100_1_0_20170110183726390.jpg.chip.jpg       60+              7  \n",
       "1  crop_part1/100_1_2_20170105174847679.jpg.chip.jpg       60+              7  \n",
       "2  crop_part1/101_1_2_20170105174739309.jpg.chip.jpg       60+              7  \n",
       "3   crop_part1/10_0_0_20161220222308131.jpg.chip.jpg      8-13              2  \n",
       "4   crop_part1/10_0_0_20170103200329407.jpg.chip.jpg      8-13              2  "
      ]
     },
     "execution_count": 36,
     "metadata": {},
     "output_type": "execute_result"
    }
   ],
   "source": [
    "df4.head()"
   ]
  },
  {
   "cell_type": "code",
   "execution_count": 37,
   "id": "98c9677c",
   "metadata": {},
   "outputs": [
    {
     "name": "stdout",
     "output_type": "stream",
     "text": [
      "Train data shape (6843, 1)\n",
      "Test data shape (2933, 1)\n",
      "Train images shape (6843, 227, 227, 3)\n",
      "Test images shape (2933, 227, 227, 3)\n"
     ]
    }
   ],
   "source": [
    "X = df4[['img_path']]\n",
    "y = df4[['Ethnicity']]\n",
    "\n",
    "from sklearn.model_selection import train_test_split\n",
    "X_train, X_test, y_train, y_test = train_test_split(X, y, test_size=0.3, random_state=42)\n",
    "\n",
    "print('Train data shape {}'.format(X_train.shape))\n",
    "print('Test data shape {}'.format(X_test.shape))\n",
    "\n",
    "train_images = []\n",
    "test_images = []\n",
    "\n",
    "for row in X_train.iterrows():\n",
    "    image = Image.open(row[1].img_path)\n",
    "    image = image.resize((227, 227))   # Resize the image\n",
    "    data = np.asarray(image)\n",
    "    train_images.append(data)\n",
    "    \n",
    "for row in X_test.iterrows():\n",
    "    image = Image.open(row[1].img_path)\n",
    "    image = image.resize((227, 227))  # Resize the image\n",
    "    data = np.asarray(image)\n",
    "    test_images.append(data)\n",
    "    \n",
    "train_images = np.asarray(train_images)\n",
    "test_images = np.asarray(test_images)\n",
    "\n",
    "print('Train images shape {}'.format(train_images.shape))\n",
    "print('Test images shape {}'.format(test_images.shape))\n",
    "\n"
   ]
  },
  {
   "cell_type": "code",
   "execution_count": 38,
   "id": "17e517f2",
   "metadata": {},
   "outputs": [
    {
     "name": "stderr",
     "output_type": "stream",
     "text": [
      "C:\\Users\\bohne\\AppData\\Local\\Temp/ipykernel_13788/2362709422.py:1: SettingWithCopyWarning: \n",
      "A value is trying to be set on a copy of a slice from a DataFrame.\n",
      "Try using .loc[row_indexer,col_indexer] = value instead\n",
      "\n",
      "See the caveats in the documentation: https://pandas.pydata.org/pandas-docs/stable/user_guide/indexing.html#returning-a-view-versus-a-copy\n",
      "  y_train['Ethnicity'] = pd.to_numeric(y_train[\"Ethnicity\"])\n",
      "C:\\Users\\bohne\\AppData\\Local\\Temp/ipykernel_13788/2362709422.py:2: SettingWithCopyWarning: \n",
      "A value is trying to be set on a copy of a slice from a DataFrame.\n",
      "Try using .loc[row_indexer,col_indexer] = value instead\n",
      "\n",
      "See the caveats in the documentation: https://pandas.pydata.org/pandas-docs/stable/user_guide/indexing.html#returning-a-view-versus-a-copy\n",
      "  y_test['Ethnicity'] = pd.to_numeric(y_test[\"Ethnicity\"])\n"
     ]
    }
   ],
   "source": [
    "\n",
    "y_train['Ethnicity'] = pd.to_numeric(y_train[\"Ethnicity\"])\n",
    "y_test['Ethnicity'] = pd.to_numeric(y_test[\"Ethnicity\"])"
   ]
  },
  {
   "cell_type": "code",
   "execution_count": 39,
   "id": "148cb31b",
   "metadata": {},
   "outputs": [
    {
     "name": "stderr",
     "output_type": "stream",
     "text": [
      "C:\\Users\\bohne\\anaconda3\\lib\\site-packages\\sklearn\\neighbors\\_classification.py:179: DataConversionWarning: A column-vector y was passed when a 1d array was expected. Please change the shape of y to (n_samples,), for example using ravel().\n",
      "  return self._fit(X, y)\n"
     ]
    },
    {
     "data": {
      "text/plain": [
       "KNeighborsClassifier(n_jobs=-1, n_neighbors=10)"
      ]
     },
     "execution_count": 39,
     "metadata": {},
     "output_type": "execute_result"
    }
   ],
   "source": [
    "dataset_size = train_images.shape[0]\n",
    "train_images = train_images.reshape(dataset_size, -1)\n",
    "\n",
    "model = KNeighborsClassifier(n_neighbors=10, n_jobs=-1)\n",
    "model.fit(train_images, y_train)"
   ]
  },
  {
   "cell_type": "code",
   "execution_count": 40,
   "id": "4b32e833",
   "metadata": {},
   "outputs": [
    {
     "name": "stdout",
     "output_type": "stream",
     "text": [
      "(2933, 154587)\n"
     ]
    }
   ],
   "source": [
    "dataset_size = test_images.shape[0]\n",
    "test_images = test_images.reshape(dataset_size, -1)\n",
    "print(test_images.shape)"
   ]
  },
  {
   "cell_type": "code",
   "execution_count": 41,
   "id": "c4e030ca",
   "metadata": {},
   "outputs": [],
   "source": [
    "y_pred = model.predict(test_images)"
   ]
  },
  {
   "cell_type": "code",
   "execution_count": 42,
   "id": "c87259d9",
   "metadata": {},
   "outputs": [
    {
     "data": {
      "text/plain": [
       "0.5894988066825776"
      ]
     },
     "execution_count": 42,
     "metadata": {},
     "output_type": "execute_result"
    }
   ],
   "source": [
    "accuracy_score(list(y_test['Ethnicity']), y_pred)"
   ]
  },
  {
   "cell_type": "code",
   "execution_count": 43,
   "id": "931af15c",
   "metadata": {},
   "outputs": [
    {
     "data": {
      "image/png": "[encoded data removed]",
      "text/plain": [
       "<Figure size 432x288 with 2 Axes>"
      ]
     },
     "metadata": {
      "needs_background": "light"
     },
     "output_type": "display_data"
    }
   ],
   "source": [
    "cm = confusion_matrix(list(y_test['Ethnicity']), y_pred, labels=model.classes_)\n",
    "disp = ConfusionMatrixDisplay(confusion_matrix=cm,\n",
    "                              display_labels=model.classes_)\n",
    "disp.plot()\n",
    "\n",
    "plt.show()"
   ]
  },
  {
   "cell_type": "code",
   "execution_count": null,
   "id": "fb48a6a7",
   "metadata": {},
   "outputs": [],
   "source": []
  }
 ],
 "metadata": {
  "kernelspec": {
   "display_name": "Python 3 (ipykernel)",
   "language": "python",
   "name": "python3"
  },
  "language_info": {
   "codemirror_mode": {
    "name": "ipython",
    "version": 3
   },
   "file_extension": ".py",
   "mimetype": "text/x-python",
   "name": "python",
   "nbconvert_exporter": "python",
   "pygments_lexer": "ipython3",
   "version": "3.9.7"
  }
 },
 "nbformat": 4,
 "nbformat_minor": 5
}
